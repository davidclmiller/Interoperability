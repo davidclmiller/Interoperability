{
 "cells": [
  {
   "cell_type": "markdown",
   "id": "28e910c8",
   "metadata": {},
   "source": [
    "# Currency API"
   ]
  },
  {
   "cell_type": "code",
   "execution_count": 1,
   "id": "f5ffff6e",
   "metadata": {},
   "outputs": [],
   "source": [
    "import pandas as pd\n",
    "import requests"
   ]
  },
  {
   "cell_type": "code",
   "execution_count": 4,
   "id": "3355d296",
   "metadata": {},
   "outputs": [
    {
     "name": "stdout",
     "output_type": "stream",
     "text": [
      "{'result': 'success', 'provider': 'https://www.exchangerate-api.com', 'documentation': 'https://www.exchangerate-api.com/docs/free', 'terms_of_use': 'https://www.exchangerate-api.com/terms', 'time_last_update_unix': 1712102551, 'time_last_update_utc': 'Wed, 03 Apr 2024 00:02:31 +0000', 'time_next_update_unix': 1712189101, 'time_next_update_utc': 'Thu, 04 Apr 2024 00:05:01 +0000', 'time_eol_unix': 0, 'base_code': 'USD', 'rates': {'USD': 1, 'AED': 3.6725, 'AFN': 71.14029, 'ALL': 95.510835, 'AMD': 391.250925, 'ANG': 1.79, 'AOA': 843.839903, 'ARS': 857.42, 'AUD': 1.535879, 'AWG': 1.79, 'AZN': 1.69914, 'BAM': 1.817463, 'BBD': 2, 'BDT': 109.748378, 'BGN': 1.817689, 'BHD': 0.376, 'BIF': 2861.072045, 'BMD': 1, 'BND': 1.352051, 'BOB': 6.932562, 'BRL': 5.056809, 'BSD': 1, 'BTN': 83.379336, 'BWP': 13.726528, 'BYN': 3.268547, 'BZD': 2, 'CAD': 1.356423, 'CDF': 2745.374054, 'CHF': 0.907773, 'CLP': 985.036618, 'CNY': 7.246376, 'COP': 3851.058688, 'CRC': 503.19969, 'CUP': 24, 'CVE': 102.464227, 'CZK': 23.53992, 'DJF': 177.721, 'DKK': 6.930369, 'DOP': 59.124817, 'DZD': 134.745655, 'EGP': 47.152901, 'ERN': 15, 'ETB': 56.751264, 'EUR': 0.929262, 'FJD': 2.255504, 'FKP': 0.795395, 'FOK': 6.930436, 'GBP': 0.795401, 'GEL': 2.681048, 'GGP': 0.795395, 'GHS': 13.377611, 'GIP': 0.795395, 'GMD': 65.687638, 'GNF': 8573.794196, 'GTQ': 7.792988, 'GYD': 209.390344, 'HKD': 7.82852, 'HNL': 24.676338, 'HRK': 7.001467, 'HTG': 132.623032, 'HUF': 366.94513, 'IDR': 15927.446754, 'ILS': 3.713014, 'IMP': 0.795395, 'INR': 83.379348, 'IQD': 1308.910014, 'IRR': 42021.029915, 'ISK': 139.882737, 'JEP': 0.795395, 'JMD': 154.21007, 'JOD': 0.709, 'JPY': 151.577885, 'KES': 131.066085, 'KGS': 89.459445, 'KHR': 4047.251993, 'KID': 1.535533, 'KMF': 457.163154, 'KRW': 1350.762863, 'KWD': 0.307644, 'KYD': 0.833333, 'KZT': 447.567988, 'LAK': 20822.839187, 'LBP': 89500, 'LKR': 299.652564, 'LRD': 193.721079, 'LSL': 18.781245, 'LYD': 4.842867, 'MAD': 10.079588, 'MDL': 17.679716, 'MGA': 4353.446252, 'MKD': 57.160723, 'MMK': 2100.867144, 'MNT': 3386.957757, 'MOP': 8.063375, 'MRU': 39.646592, 'MUR': 46.489354, 'MVR': 15.45476, 'MWK': 1730.929287, 'MXN': 16.574122, 'MYR': 4.753613, 'MZN': 63.895905, 'NAD': 18.781245, 'NGN': 1306.192663, 'NIO': 36.771993, 'NOK': 10.852022, 'NPR': 133.406937, 'NZD': 1.676077, 'OMR': 0.384497, 'PAB': 1, 'PEN': 3.716458, 'PGK': 3.785978, 'PHP': 56.301935, 'PKR': 277.823091, 'PLN': 3.98795, 'PYG': 7363.058117, 'QAR': 3.64, 'RON': 4.621496, 'RSD': 108.909493, 'RUB': 92.390603, 'RWF': 1299.953221, 'SAR': 3.75, 'SBD': 8.509263, 'SCR': 13.569428, 'SDG': 449.462378, 'SEK': 10.741263, 'SGD': 1.352051, 'SHP': 0.795395, 'SLE': 22.712775, 'SLL': 22712.77506, 'SOS': 571.730464, 'SRD': 35.322146, 'SSP': 1586.204601, 'STN': 22.766731, 'SYP': 12900.257607, 'SZL': 18.781245, 'THB': 36.626086, 'TJS': 10.948412, 'TMT': 3.499942, 'TND': 3.134278, 'TOP': 2.337916, 'TRY': 32.0726, 'TTD': 6.741804, 'TVD': 1.535533, 'TWD': 32.055804, 'TZS': 2566.802869, 'UAH': 39.355628, 'UGX': 3883.91922, 'UYU': 37.574651, 'UZS': 12621.02273, 'VES': 36.286, 'VND': 24904.968363, 'VUV': 120.303305, 'WST': 2.761137, 'XAF': 609.550872, 'XCD': 2.7, 'XDR': 0.759001, 'XOF': 609.550872, 'XPF': 110.889776, 'YER': 250.177318, 'ZAR': 18.781285, 'ZMW': 24.941299, 'ZWL': 22394.11098}}\n"
     ]
    }
   ],
   "source": [
    "def fetch_data_from_api(api_url):\n",
    "    try:\n",
    "        response = requests.get(api_url)\n",
    "        response.raise_for_status() # Raise an exception for 4xx or 5xx status codes\n",
    "        data = response.json()\n",
    "        return data\n",
    "    except requests.exceptions.RequestException as e:\n",
    "        print(f\"Error fetching data from API: {e}\")\n",
    "        return None\n",
    "api_url = \"https://open.er-api.com/v6/latest/USD\"\n",
    "data = fetch_data_from_api(api_url)\n",
    "if data:\n",
    "    print(data) # or do whatever you want with the data\n",
    "else:\n",
    "    print(\"Failed to fetch data from API.\")"
   ]
  },
  {
   "cell_type": "code",
   "execution_count": 7,
   "id": "17b33af8",
   "metadata": {
    "scrolled": false
   },
   "outputs": [
    {
     "data": {
      "text/plain": [
       "dict"
      ]
     },
     "execution_count": 7,
     "metadata": {},
     "output_type": "execute_result"
    }
   ],
   "source": [
    "type(data)"
   ]
  },
  {
   "cell_type": "code",
   "execution_count": 6,
   "id": "942a0938",
   "metadata": {
    "scrolled": true
   },
   "outputs": [
    {
     "data": {
      "text/html": [
       "<div>\n",
       "<style scoped>\n",
       "    .dataframe tbody tr th:only-of-type {\n",
       "        vertical-align: middle;\n",
       "    }\n",
       "\n",
       "    .dataframe tbody tr th {\n",
       "        vertical-align: top;\n",
       "    }\n",
       "\n",
       "    .dataframe thead th {\n",
       "        text-align: right;\n",
       "    }\n",
       "</style>\n",
       "<table border=\"1\" class=\"dataframe\">\n",
       "  <thead>\n",
       "    <tr style=\"text-align: right;\">\n",
       "      <th></th>\n",
       "      <th>result</th>\n",
       "      <th>provider</th>\n",
       "      <th>documentation</th>\n",
       "      <th>terms_of_use</th>\n",
       "      <th>time_last_update_unix</th>\n",
       "      <th>time_last_update_utc</th>\n",
       "      <th>time_next_update_unix</th>\n",
       "      <th>time_next_update_utc</th>\n",
       "      <th>time_eol_unix</th>\n",
       "      <th>base_code</th>\n",
       "      <th>...</th>\n",
       "      <th>rates.WST</th>\n",
       "      <th>rates.XAF</th>\n",
       "      <th>rates.XCD</th>\n",
       "      <th>rates.XDR</th>\n",
       "      <th>rates.XOF</th>\n",
       "      <th>rates.XPF</th>\n",
       "      <th>rates.YER</th>\n",
       "      <th>rates.ZAR</th>\n",
       "      <th>rates.ZMW</th>\n",
       "      <th>rates.ZWL</th>\n",
       "    </tr>\n",
       "  </thead>\n",
       "  <tbody>\n",
       "    <tr>\n",
       "      <th>0</th>\n",
       "      <td>success</td>\n",
       "      <td>https://www.exchangerate-api.com</td>\n",
       "      <td>https://www.exchangerate-api.com/docs/free</td>\n",
       "      <td>https://www.exchangerate-api.com/terms</td>\n",
       "      <td>1712102551</td>\n",
       "      <td>Wed, 03 Apr 2024 00:02:31 +0000</td>\n",
       "      <td>1712189101</td>\n",
       "      <td>Thu, 04 Apr 2024 00:05:01 +0000</td>\n",
       "      <td>0</td>\n",
       "      <td>USD</td>\n",
       "      <td>...</td>\n",
       "      <td>2.761137</td>\n",
       "      <td>609.550872</td>\n",
       "      <td>2.7</td>\n",
       "      <td>0.759001</td>\n",
       "      <td>609.550872</td>\n",
       "      <td>110.889776</td>\n",
       "      <td>250.177318</td>\n",
       "      <td>18.781285</td>\n",
       "      <td>24.941299</td>\n",
       "      <td>22394.11098</td>\n",
       "    </tr>\n",
       "  </tbody>\n",
       "</table>\n",
       "<p>1 rows × 172 columns</p>\n",
       "</div>"
      ],
      "text/plain": [
       "    result                          provider  \\\n",
       "0  success  https://www.exchangerate-api.com   \n",
       "\n",
       "                                documentation  \\\n",
       "0  https://www.exchangerate-api.com/docs/free   \n",
       "\n",
       "                             terms_of_use  time_last_update_unix  \\\n",
       "0  https://www.exchangerate-api.com/terms             1712102551   \n",
       "\n",
       "              time_last_update_utc  time_next_update_unix  \\\n",
       "0  Wed, 03 Apr 2024 00:02:31 +0000             1712189101   \n",
       "\n",
       "              time_next_update_utc  time_eol_unix base_code  ...  rates.WST  \\\n",
       "0  Thu, 04 Apr 2024 00:05:01 +0000              0       USD  ...   2.761137   \n",
       "\n",
       "    rates.XAF  rates.XCD  rates.XDR   rates.XOF   rates.XPF   rates.YER  \\\n",
       "0  609.550872        2.7   0.759001  609.550872  110.889776  250.177318   \n",
       "\n",
       "   rates.ZAR  rates.ZMW    rates.ZWL  \n",
       "0  18.781285  24.941299  22394.11098  \n",
       "\n",
       "[1 rows x 172 columns]"
      ]
     },
     "execution_count": 6,
     "metadata": {},
     "output_type": "execute_result"
    }
   ],
   "source": [
    "df = pd.json_normalize(data)\n",
    "df"
   ]
  },
  {
   "cell_type": "code",
   "execution_count": null,
   "id": "5e666080",
   "metadata": {},
   "outputs": [],
   "source": []
  }
 ],
 "metadata": {
  "kernelspec": {
   "display_name": "Python 3 (ipykernel)",
   "language": "python",
   "name": "python3"
  },
  "language_info": {
   "codemirror_mode": {
    "name": "ipython",
    "version": 3
   },
   "file_extension": ".py",
   "mimetype": "text/x-python",
   "name": "python",
   "nbconvert_exporter": "python",
   "pygments_lexer": "ipython3",
   "version": "3.11.5"
  }
 },
 "nbformat": 4,
 "nbformat_minor": 5
}
