{
 "cells": [
  {
   "cell_type": "markdown",
   "id": "28e910c8",
   "metadata": {},
   "source": [
    "# Weather API"
   ]
  },
  {
   "cell_type": "code",
   "execution_count": 69,
   "id": "f5ffff6e",
   "metadata": {},
   "outputs": [],
   "source": [
    "import pandas as pd\n",
    "import requests\n",
    "import json\n",
    "import geojson\n",
    "import geopandas\n",
    "import csv\n",
    "import objectpath"
   ]
  },
  {
   "cell_type": "code",
   "execution_count": 70,
   "id": "3355d296",
   "metadata": {
    "scrolled": true
   },
   "outputs": [
    {
     "name": "stdout",
     "output_type": "stream",
     "text": [
      "{'@context': ['https://geojson.org/geojson-ld/geojson-context.jsonld', {'@version': '1.1', 'wx': 'https://api.weather.gov/ontology#', 's': 'https://schema.org/', 'geo': 'http://www.opengis.net/ont/geosparql#', 'unit': 'http://codes.wmo.int/common/unit/', '@vocab': 'https://api.weather.gov/ontology#', 'geometry': {'@id': 's:GeoCoordinates', '@type': 'geo:wktLiteral'}, 'city': 's:addressLocality', 'state': 's:addressRegion', 'distance': {'@id': 's:Distance', '@type': 's:QuantitativeValue'}, 'bearing': {'@type': 's:QuantitativeValue'}, 'value': {'@id': 's:value'}, 'unitCode': {'@id': 's:unitCode', '@type': '@id'}, 'forecastOffice': {'@type': '@id'}, 'forecastGridData': {'@type': '@id'}, 'publicZone': {'@type': '@id'}, 'county': {'@type': '@id'}}], 'id': 'https://api.weather.gov/stations/KCQT/observations/2024-04-09T20:47:00+00:00', 'type': 'Feature', 'geometry': {'type': 'Point', 'coordinates': [-118.28, 34.02]}, 'properties': {'@id': 'https://api.weather.gov/stations/KCQT/observations/2024-04-09T20:47:00+00:00', '@type': 'wx:ObservationStation', 'elevation': {'unitCode': 'wmoUnit:m', 'value': 56}, 'station': 'https://api.weather.gov/stations/KCQT', 'timestamp': '2024-04-09T20:47:00+00:00', 'rawMessage': 'KCQT 092047Z AUTO 10SM CLR 27/M02 A3005 RMK AO2 SLP173 T02671022 56012 $', 'textDescription': 'Clear', 'icon': 'https://api.weather.gov/icons/land/day/skc?size=medium', 'presentWeather': [], 'temperature': {'unitCode': 'wmoUnit:degC', 'value': 26.7, 'qualityControl': 'V'}, 'dewpoint': {'unitCode': 'wmoUnit:degC', 'value': -2.2, 'qualityControl': 'V'}, 'windDirection': {'unitCode': 'wmoUnit:degree_(angle)', 'value': None, 'qualityControl': 'Z'}, 'windSpeed': {'unitCode': 'wmoUnit:km_h-1', 'value': None, 'qualityControl': 'Z'}, 'windGust': {'unitCode': 'wmoUnit:km_h-1', 'value': None, 'qualityControl': 'Z'}, 'barometricPressure': {'unitCode': 'wmoUnit:Pa', 'value': 101760, 'qualityControl': 'V'}, 'seaLevelPressure': {'unitCode': 'wmoUnit:Pa', 'value': 101730, 'qualityControl': 'V'}, 'visibility': {'unitCode': 'wmoUnit:m', 'value': 16090, 'qualityControl': 'C'}, 'maxTemperatureLast24Hours': {'unitCode': 'wmoUnit:degC', 'value': None}, 'minTemperatureLast24Hours': {'unitCode': 'wmoUnit:degC', 'value': None}, 'precipitationLastHour': {'unitCode': 'wmoUnit:mm', 'value': None, 'qualityControl': 'Z'}, 'precipitationLast3Hours': {'unitCode': 'wmoUnit:mm', 'value': None, 'qualityControl': 'Z'}, 'precipitationLast6Hours': {'unitCode': 'wmoUnit:mm', 'value': None, 'qualityControl': 'Z'}, 'relativeHumidity': {'unitCode': 'wmoUnit:percent', 'value': 14.873402249669, 'qualityControl': 'V'}, 'windChill': {'unitCode': 'wmoUnit:degC', 'value': None, 'qualityControl': 'V'}, 'heatIndex': {'unitCode': 'wmoUnit:degC', 'value': 25.813916614296666, 'qualityControl': 'V'}, 'cloudLayers': [{'base': {'unitCode': 'wmoUnit:m', 'value': None}, 'amount': 'CLR'}]}}\n"
     ]
    }
   ],
   "source": [
    "def fetch_data_from_api(api_url):\n",
    "    try:\n",
    "        response = requests.get(api_url)\n",
    "        response.raise_for_status() # Raise an exception for 4xx or 5xx status codes\n",
    "        data = response.json()\n",
    "        return data\n",
    "    except requests.exceptions.RequestException as e:\n",
    "        print(f\"Error fetching data from API: {e}\")\n",
    "        return None\n",
    "api_url = \"https://api.weather.gov/stations/KCQT/observations/latest?require_qc=false\"\n",
    "data = fetch_data_from_api(api_url)\n",
    "if data:\n",
    "    print(data) # show data collected\n",
    "else:\n",
    "    print(\"Failed to fetch data from API.\")"
   ]
  },
  {
   "cell_type": "code",
   "execution_count": 71,
   "id": "efe1e78d",
   "metadata": {
    "scrolled": true
   },
   "outputs": [
    {
     "data": {
      "text/plain": [
       "dict"
      ]
     },
     "execution_count": 71,
     "metadata": {},
     "output_type": "execute_result"
    }
   ],
   "source": [
    "type(data)"
   ]
  },
  {
   "cell_type": "code",
   "execution_count": 72,
   "id": "ea2e62e2",
   "metadata": {
    "scrolled": true
   },
   "outputs": [],
   "source": [
    "gdf = geopandas.GeoDataFrame.from_features([data])\n",
    "csv_filename = 'weather.csv'\n",
    "gdf.to_csv(csv_filename, index=False)"
   ]
  },
  {
   "cell_type": "code",
   "execution_count": 73,
   "id": "20879353",
   "metadata": {
    "scrolled": false
   },
   "outputs": [
    {
     "name": "stdout",
     "output_type": "stream",
     "text": [
      "{'type': 'FeatureCollection', 'features': [{'id': '0', 'type': 'Feature', 'properties': {'@id': 'https://api.weather.gov/stations/KCQT/observations/2024-04-09T20:47:00+00:00', '@type': 'wx:ObservationStation', 'elevation': {'unitCode': 'wmoUnit:m', 'value': 56}, 'station': 'https://api.weather.gov/stations/KCQT', 'timestamp': '2024-04-09T20:47:00+00:00', 'rawMessage': 'KCQT 092047Z AUTO 10SM CLR 27/M02 A3005 RMK AO2 SLP173 T02671022 56012 $', 'textDescription': 'Clear', 'icon': 'https://api.weather.gov/icons/land/day/skc?size=medium', 'presentWeather': [], 'temperature': {'unitCode': 'wmoUnit:degC', 'value': 26.7, 'qualityControl': 'V'}, 'dewpoint': {'unitCode': 'wmoUnit:degC', 'value': -2.2, 'qualityControl': 'V'}, 'windDirection': {'unitCode': 'wmoUnit:degree_(angle)', 'value': None, 'qualityControl': 'Z'}, 'windSpeed': {'unitCode': 'wmoUnit:km_h-1', 'value': None, 'qualityControl': 'Z'}, 'windGust': {'unitCode': 'wmoUnit:km_h-1', 'value': None, 'qualityControl': 'Z'}, 'barometricPressure': {'unitCode': 'wmoUnit:Pa', 'value': 101760, 'qualityControl': 'V'}, 'seaLevelPressure': {'unitCode': 'wmoUnit:Pa', 'value': 101730, 'qualityControl': 'V'}, 'visibility': {'unitCode': 'wmoUnit:m', 'value': 16090, 'qualityControl': 'C'}, 'maxTemperatureLast24Hours': {'unitCode': 'wmoUnit:degC', 'value': None}, 'minTemperatureLast24Hours': {'unitCode': 'wmoUnit:degC', 'value': None}, 'precipitationLastHour': {'unitCode': 'wmoUnit:mm', 'value': None, 'qualityControl': 'Z'}, 'precipitationLast3Hours': {'unitCode': 'wmoUnit:mm', 'value': None, 'qualityControl': 'Z'}, 'precipitationLast6Hours': {'unitCode': 'wmoUnit:mm', 'value': None, 'qualityControl': 'Z'}, 'relativeHumidity': {'unitCode': 'wmoUnit:percent', 'value': 14.873402249669, 'qualityControl': 'V'}, 'windChill': {'unitCode': 'wmoUnit:degC', 'value': None, 'qualityControl': 'V'}, 'heatIndex': {'unitCode': 'wmoUnit:degC', 'value': 25.813916614296666, 'qualityControl': 'V'}, 'cloudLayers': [{'base': {'unitCode': 'wmoUnit:m', 'value': None}, 'amount': 'CLR'}]}, 'geometry': {'type': 'Point', 'coordinates': (-118.28, 34.02)}, 'bbox': (-118.28, 34.02, -118.28, 34.02)}], 'bbox': (-118.28, 34.02, -118.28, 34.02)}\n"
     ]
    }
   ],
   "source": [
    "gdf = gdf.__geo_interface__\n",
    "print(gdf)"
   ]
  },
  {
   "cell_type": "code",
   "execution_count": 74,
   "id": "a106abc6",
   "metadata": {},
   "outputs": [
    {
     "name": "stdout",
     "output_type": "stream",
     "text": [
      "dict_keys(['type', 'features', 'bbox'])\n"
     ]
    }
   ],
   "source": [
    "keys = gdf.keys()\n",
    "print(keys)"
   ]
  },
  {
   "cell_type": "code",
   "execution_count": 75,
   "id": "0ed2b28c",
   "metadata": {
    "scrolled": false
   },
   "outputs": [
    {
     "name": "stdout",
     "output_type": "stream",
     "text": [
      "dict_items([('type', 'FeatureCollection'), ('features', [{'id': '0', 'type': 'Feature', 'properties': {'@id': 'https://api.weather.gov/stations/KCQT/observations/2024-04-09T20:47:00+00:00', '@type': 'wx:ObservationStation', 'elevation': {'unitCode': 'wmoUnit:m', 'value': 56}, 'station': 'https://api.weather.gov/stations/KCQT', 'timestamp': '2024-04-09T20:47:00+00:00', 'rawMessage': 'KCQT 092047Z AUTO 10SM CLR 27/M02 A3005 RMK AO2 SLP173 T02671022 56012 $', 'textDescription': 'Clear', 'icon': 'https://api.weather.gov/icons/land/day/skc?size=medium', 'presentWeather': [], 'temperature': {'unitCode': 'wmoUnit:degC', 'value': 26.7, 'qualityControl': 'V'}, 'dewpoint': {'unitCode': 'wmoUnit:degC', 'value': -2.2, 'qualityControl': 'V'}, 'windDirection': {'unitCode': 'wmoUnit:degree_(angle)', 'value': None, 'qualityControl': 'Z'}, 'windSpeed': {'unitCode': 'wmoUnit:km_h-1', 'value': None, 'qualityControl': 'Z'}, 'windGust': {'unitCode': 'wmoUnit:km_h-1', 'value': None, 'qualityControl': 'Z'}, 'barometricPressure': {'unitCode': 'wmoUnit:Pa', 'value': 101760, 'qualityControl': 'V'}, 'seaLevelPressure': {'unitCode': 'wmoUnit:Pa', 'value': 101730, 'qualityControl': 'V'}, 'visibility': {'unitCode': 'wmoUnit:m', 'value': 16090, 'qualityControl': 'C'}, 'maxTemperatureLast24Hours': {'unitCode': 'wmoUnit:degC', 'value': None}, 'minTemperatureLast24Hours': {'unitCode': 'wmoUnit:degC', 'value': None}, 'precipitationLastHour': {'unitCode': 'wmoUnit:mm', 'value': None, 'qualityControl': 'Z'}, 'precipitationLast3Hours': {'unitCode': 'wmoUnit:mm', 'value': None, 'qualityControl': 'Z'}, 'precipitationLast6Hours': {'unitCode': 'wmoUnit:mm', 'value': None, 'qualityControl': 'Z'}, 'relativeHumidity': {'unitCode': 'wmoUnit:percent', 'value': 14.873402249669, 'qualityControl': 'V'}, 'windChill': {'unitCode': 'wmoUnit:degC', 'value': None, 'qualityControl': 'V'}, 'heatIndex': {'unitCode': 'wmoUnit:degC', 'value': 25.813916614296666, 'qualityControl': 'V'}, 'cloudLayers': [{'base': {'unitCode': 'wmoUnit:m', 'value': None}, 'amount': 'CLR'}]}, 'geometry': {'type': 'Point', 'coordinates': (-118.28, 34.02)}, 'bbox': (-118.28, 34.02, -118.28, 34.02)}]), ('bbox', (-118.28, 34.02, -118.28, 34.02))])\n"
     ]
    }
   ],
   "source": [
    "items = gdf.items()\n",
    "print(items)"
   ]
  },
  {
   "cell_type": "code",
   "execution_count": 76,
   "id": "6cb76aef",
   "metadata": {
    "scrolled": false
   },
   "outputs": [
    {
     "name": "stdout",
     "output_type": "stream",
     "text": [
      "['FeatureCollection', [{'id': '0', 'type': 'Feature', 'properties': {'@id': 'https://api.weather.gov/stations/KCQT/observations/2024-04-09T20:47:00+00:00', '@type': 'wx:ObservationStation', 'elevation': {'unitCode': 'wmoUnit:m', 'value': 56}, 'station': 'https://api.weather.gov/stations/KCQT', 'timestamp': '2024-04-09T20:47:00+00:00', 'rawMessage': 'KCQT 092047Z AUTO 10SM CLR 27/M02 A3005 RMK AO2 SLP173 T02671022 56012 $', 'textDescription': 'Clear', 'icon': 'https://api.weather.gov/icons/land/day/skc?size=medium', 'presentWeather': [], 'temperature': {'unitCode': 'wmoUnit:degC', 'value': 26.7, 'qualityControl': 'V'}, 'dewpoint': {'unitCode': 'wmoUnit:degC', 'value': -2.2, 'qualityControl': 'V'}, 'windDirection': {'unitCode': 'wmoUnit:degree_(angle)', 'value': None, 'qualityControl': 'Z'}, 'windSpeed': {'unitCode': 'wmoUnit:km_h-1', 'value': None, 'qualityControl': 'Z'}, 'windGust': {'unitCode': 'wmoUnit:km_h-1', 'value': None, 'qualityControl': 'Z'}, 'barometricPressure': {'unitCode': 'wmoUnit:Pa', 'value': 101760, 'qualityControl': 'V'}, 'seaLevelPressure': {'unitCode': 'wmoUnit:Pa', 'value': 101730, 'qualityControl': 'V'}, 'visibility': {'unitCode': 'wmoUnit:m', 'value': 16090, 'qualityControl': 'C'}, 'maxTemperatureLast24Hours': {'unitCode': 'wmoUnit:degC', 'value': None}, 'minTemperatureLast24Hours': {'unitCode': 'wmoUnit:degC', 'value': None}, 'precipitationLastHour': {'unitCode': 'wmoUnit:mm', 'value': None, 'qualityControl': 'Z'}, 'precipitationLast3Hours': {'unitCode': 'wmoUnit:mm', 'value': None, 'qualityControl': 'Z'}, 'precipitationLast6Hours': {'unitCode': 'wmoUnit:mm', 'value': None, 'qualityControl': 'Z'}, 'relativeHumidity': {'unitCode': 'wmoUnit:percent', 'value': 14.873402249669, 'qualityControl': 'V'}, 'windChill': {'unitCode': 'wmoUnit:degC', 'value': None, 'qualityControl': 'V'}, 'heatIndex': {'unitCode': 'wmoUnit:degC', 'value': 25.813916614296666, 'qualityControl': 'V'}, 'cloudLayers': [{'base': {'unitCode': 'wmoUnit:m', 'value': None}, 'amount': 'CLR'}]}, 'geometry': {'type': 'Point', 'coordinates': (-118.28, 34.02)}, 'bbox': (-118.28, 34.02, -118.28, 34.02)}], (-118.28, 34.02, -118.28, 34.02)]\n"
     ]
    }
   ],
   "source": [
    "values_list = list(gdf.values())\n",
    "print(values_list)"
   ]
  },
  {
   "cell_type": "code",
   "execution_count": 77,
   "id": "a52deec7",
   "metadata": {
    "scrolled": true
   },
   "outputs": [
    {
     "data": {
      "text/plain": [
       "list"
      ]
     },
     "execution_count": 77,
     "metadata": {},
     "output_type": "execute_result"
    }
   ],
   "source": [
    "type(values_list)"
   ]
  },
  {
   "cell_type": "code",
   "execution_count": 78,
   "id": "ed121a68",
   "metadata": {
    "scrolled": false
   },
   "outputs": [
    {
     "name": "stdout",
     "output_type": "stream",
     "text": [
      "Clear\n"
     ]
    },
    {
     "data": {
      "text/plain": [
       "str"
      ]
     },
     "execution_count": 78,
     "metadata": {},
     "output_type": "execute_result"
    }
   ],
   "source": [
    "tree_obj = objectpath.Tree(values_list)\n",
    "CurrentCondition = tuple(tree_obj.execute('$..textDescription'))\n",
    "CurrentConditionValue = CurrentCondition[0]\n",
    "print(CurrentConditionValue)\n",
    "type(CurrentConditionValue)"
   ]
  },
  {
   "cell_type": "code",
   "execution_count": 80,
   "id": "d5602734",
   "metadata": {},
   "outputs": [
    {
     "name": "stdout",
     "output_type": "stream",
     "text": [
      "26.7\n"
     ]
    },
    {
     "data": {
      "text/plain": [
       "float"
      ]
     },
     "execution_count": 80,
     "metadata": {},
     "output_type": "execute_result"
    }
   ],
   "source": [
    "tree_obj = objectpath.Tree(values_list)\n",
    "temp_obj = tuple(tree_obj.execute('$..temperature'))\n",
    "temp_value = str(temp_obj)\n",
    "tempC = temp_value[39:]\n",
    "tempC = tempC[:4]\n",
    "tempC = float(tempC)\n",
    "print(tempC)\n",
    "type(tempC)"
   ]
  },
  {
   "cell_type": "code",
   "execution_count": null,
   "id": "661bdf85",
   "metadata": {},
   "outputs": [],
   "source": []
  }
 ],
 "metadata": {
  "kernelspec": {
   "display_name": "Python 3 (ipykernel)",
   "language": "python",
   "name": "python3"
  },
  "language_info": {
   "codemirror_mode": {
    "name": "ipython",
    "version": 3
   },
   "file_extension": ".py",
   "mimetype": "text/x-python",
   "name": "python",
   "nbconvert_exporter": "python",
   "pygments_lexer": "ipython3",
   "version": "3.11.5"
  }
 },
 "nbformat": 4,
 "nbformat_minor": 5
}
