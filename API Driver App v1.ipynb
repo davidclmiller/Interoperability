{
 "cells": [
  {
   "cell_type": "markdown",
   "id": "28e910c8",
   "metadata": {},
   "source": [
    "# API Driver App\n",
    "## Pulls 3 Public API data sources\n",
    "## Pushes the data to the Custom API App\n",
    "## Pulls the data from the Custom API App"
   ]
  },
  {
   "cell_type": "code",
   "execution_count": 1,
   "id": "f5ffff6e",
   "metadata": {},
   "outputs": [],
   "source": [
    "import pandas as pd\n",
    "import requests\n",
    "import json\n",
    "import geojson\n",
    "import geopandas\n",
    "import csv\n",
    "import objectpath\n",
    "import numpy as np"
   ]
  },
  {
   "cell_type": "markdown",
   "id": "fa5b0930",
   "metadata": {},
   "source": [
    "# Weather API Data Retreival"
   ]
  },
  {
   "cell_type": "code",
   "execution_count": 2,
   "id": "b4590cfd",
   "metadata": {},
   "outputs": [],
   "source": [
    "# API Query to retreive weather conditions in Los Angeles"
   ]
  },
  {
   "cell_type": "code",
   "execution_count": 3,
   "id": "3355d296",
   "metadata": {
    "scrolled": true
   },
   "outputs": [
    {
     "name": "stdout",
     "output_type": "stream",
     "text": [
      "{'@context': ['https://geojson.org/geojson-ld/geojson-context.jsonld', {'@version': '1.1', 'wx': 'https://api.weather.gov/ontology#', 's': 'https://schema.org/', 'geo': 'http://www.opengis.net/ont/geosparql#', 'unit': 'http://codes.wmo.int/common/unit/', '@vocab': 'https://api.weather.gov/ontology#', 'geometry': {'@id': 's:GeoCoordinates', '@type': 'geo:wktLiteral'}, 'city': 's:addressLocality', 'state': 's:addressRegion', 'distance': {'@id': 's:Distance', '@type': 's:QuantitativeValue'}, 'bearing': {'@type': 's:QuantitativeValue'}, 'value': {'@id': 's:value'}, 'unitCode': {'@id': 's:unitCode', '@type': '@id'}, 'forecastOffice': {'@type': '@id'}, 'forecastGridData': {'@type': '@id'}, 'publicZone': {'@type': '@id'}, 'county': {'@type': '@id'}}], 'id': 'https://api.weather.gov/stations/KCQT/observations/2024-04-16T18:47:00+00:00', 'type': 'Feature', 'geometry': {'type': 'Point', 'coordinates': [-118.28, 34.02]}, 'properties': {'@id': 'https://api.weather.gov/stations/KCQT/observations/2024-04-16T18:47:00+00:00', '@type': 'wx:ObservationStation', 'elevation': {'unitCode': 'wmoUnit:m', 'value': 56}, 'station': 'https://api.weather.gov/stations/KCQT', 'timestamp': '2024-04-16T18:47:00+00:00', 'rawMessage': 'KCQT 161847Z AUTO 00000KT 10SM CLR 24/09 A3003 RMK AO2 SLP168 T02390089 $', 'textDescription': 'Clear', 'icon': 'https://api.weather.gov/icons/land/day/skc?size=medium', 'presentWeather': [], 'temperature': {'unitCode': 'wmoUnit:degC', 'value': 23.9, 'qualityControl': 'V'}, 'dewpoint': {'unitCode': 'wmoUnit:degC', 'value': 8.9, 'qualityControl': 'V'}, 'windDirection': {'unitCode': 'wmoUnit:degree_(angle)', 'value': 0, 'qualityControl': 'V'}, 'windSpeed': {'unitCode': 'wmoUnit:km_h-1', 'value': 0, 'qualityControl': 'V'}, 'windGust': {'unitCode': 'wmoUnit:km_h-1', 'value': None, 'qualityControl': 'Z'}, 'barometricPressure': {'unitCode': 'wmoUnit:Pa', 'value': 101690, 'qualityControl': 'V'}, 'seaLevelPressure': {'unitCode': 'wmoUnit:Pa', 'value': 101680, 'qualityControl': 'V'}, 'visibility': {'unitCode': 'wmoUnit:m', 'value': 16090, 'qualityControl': 'C'}, 'maxTemperatureLast24Hours': {'unitCode': 'wmoUnit:degC', 'value': None}, 'minTemperatureLast24Hours': {'unitCode': 'wmoUnit:degC', 'value': None}, 'precipitationLastHour': {'unitCode': 'wmoUnit:mm', 'value': None, 'qualityControl': 'Z'}, 'precipitationLast3Hours': {'unitCode': 'wmoUnit:mm', 'value': None, 'qualityControl': 'Z'}, 'precipitationLast6Hours': {'unitCode': 'wmoUnit:mm', 'value': None, 'qualityControl': 'Z'}, 'relativeHumidity': {'unitCode': 'wmoUnit:percent', 'value': 38.465645386488, 'qualityControl': 'V'}, 'windChill': {'unitCode': 'wmoUnit:degC', 'value': None, 'qualityControl': 'V'}, 'heatIndex': {'unitCode': 'wmoUnit:degC', 'value': 23.349936296202777, 'qualityControl': 'V'}, 'cloudLayers': [{'base': {'unitCode': 'wmoUnit:m', 'value': None}, 'amount': 'CLR'}]}}\n"
     ]
    }
   ],
   "source": [
    "def fetch_data_from_api(api_url):\n",
    "    try:\n",
    "        response = requests.get(api_url)\n",
    "        response.raise_for_status() # Raise an exception for 4xx or 5xx status codes\n",
    "        data = response.json()\n",
    "        return data\n",
    "    except requests.exceptions.RequestException as e:\n",
    "        print(f\"Error fetching data from API: {e}\")\n",
    "        return None\n",
    "api_url = \"https://api.weather.gov/stations/KCQT/observations/latest?require_qc=false\"\n",
    "data = fetch_data_from_api(api_url)\n",
    "if data:\n",
    "    print(data) # show data collected\n",
    "else:\n",
    "    print(\"Failed to fetch data from API.\")"
   ]
  },
  {
   "cell_type": "code",
   "execution_count": 4,
   "id": "efe1e78d",
   "metadata": {
    "scrolled": false
   },
   "outputs": [
    {
     "data": {
      "text/plain": [
       "dict"
      ]
     },
     "execution_count": 4,
     "metadata": {},
     "output_type": "execute_result"
    }
   ],
   "source": [
    "type(data)"
   ]
  },
  {
   "cell_type": "code",
   "execution_count": 5,
   "id": "fbadf6ce",
   "metadata": {},
   "outputs": [],
   "source": [
    "# Converting data from GeoJSON to GeoDataFrame"
   ]
  },
  {
   "cell_type": "code",
   "execution_count": 6,
   "id": "ea2e62e2",
   "metadata": {
    "scrolled": true
   },
   "outputs": [],
   "source": [
    "gdf = geopandas.GeoDataFrame.from_features([data])\n",
    "csv_filename = 'weather.csv'\n",
    "gdf.to_csv(csv_filename, index=False)"
   ]
  },
  {
   "cell_type": "code",
   "execution_count": 7,
   "id": "20879353",
   "metadata": {
    "scrolled": false
   },
   "outputs": [
    {
     "name": "stdout",
     "output_type": "stream",
     "text": [
      "{'type': 'FeatureCollection', 'features': [{'id': '0', 'type': 'Feature', 'properties': {'@id': 'https://api.weather.gov/stations/KCQT/observations/2024-04-16T18:47:00+00:00', '@type': 'wx:ObservationStation', 'elevation': {'unitCode': 'wmoUnit:m', 'value': 56}, 'station': 'https://api.weather.gov/stations/KCQT', 'timestamp': '2024-04-16T18:47:00+00:00', 'rawMessage': 'KCQT 161847Z AUTO 00000KT 10SM CLR 24/09 A3003 RMK AO2 SLP168 T02390089 $', 'textDescription': 'Clear', 'icon': 'https://api.weather.gov/icons/land/day/skc?size=medium', 'presentWeather': [], 'temperature': {'unitCode': 'wmoUnit:degC', 'value': 23.9, 'qualityControl': 'V'}, 'dewpoint': {'unitCode': 'wmoUnit:degC', 'value': 8.9, 'qualityControl': 'V'}, 'windDirection': {'unitCode': 'wmoUnit:degree_(angle)', 'value': 0, 'qualityControl': 'V'}, 'windSpeed': {'unitCode': 'wmoUnit:km_h-1', 'value': 0, 'qualityControl': 'V'}, 'windGust': {'unitCode': 'wmoUnit:km_h-1', 'value': None, 'qualityControl': 'Z'}, 'barometricPressure': {'unitCode': 'wmoUnit:Pa', 'value': 101690, 'qualityControl': 'V'}, 'seaLevelPressure': {'unitCode': 'wmoUnit:Pa', 'value': 101680, 'qualityControl': 'V'}, 'visibility': {'unitCode': 'wmoUnit:m', 'value': 16090, 'qualityControl': 'C'}, 'maxTemperatureLast24Hours': {'unitCode': 'wmoUnit:degC', 'value': None}, 'minTemperatureLast24Hours': {'unitCode': 'wmoUnit:degC', 'value': None}, 'precipitationLastHour': {'unitCode': 'wmoUnit:mm', 'value': None, 'qualityControl': 'Z'}, 'precipitationLast3Hours': {'unitCode': 'wmoUnit:mm', 'value': None, 'qualityControl': 'Z'}, 'precipitationLast6Hours': {'unitCode': 'wmoUnit:mm', 'value': None, 'qualityControl': 'Z'}, 'relativeHumidity': {'unitCode': 'wmoUnit:percent', 'value': 38.465645386488, 'qualityControl': 'V'}, 'windChill': {'unitCode': 'wmoUnit:degC', 'value': None, 'qualityControl': 'V'}, 'heatIndex': {'unitCode': 'wmoUnit:degC', 'value': 23.349936296202777, 'qualityControl': 'V'}, 'cloudLayers': [{'base': {'unitCode': 'wmoUnit:m', 'value': None}, 'amount': 'CLR'}]}, 'geometry': {'type': 'Point', 'coordinates': (-118.28, 34.02)}, 'bbox': (-118.28, 34.02, -118.28, 34.02)}], 'bbox': (-118.28, 34.02, -118.28, 34.02)}\n"
     ]
    }
   ],
   "source": [
    "gdf = gdf.__geo_interface__\n",
    "print(gdf)"
   ]
  },
  {
   "cell_type": "code",
   "execution_count": 8,
   "id": "a106abc6",
   "metadata": {},
   "outputs": [
    {
     "name": "stdout",
     "output_type": "stream",
     "text": [
      "dict_keys(['type', 'features', 'bbox'])\n"
     ]
    }
   ],
   "source": [
    "keys = gdf.keys()\n",
    "print(keys)"
   ]
  },
  {
   "cell_type": "code",
   "execution_count": 9,
   "id": "0ed2b28c",
   "metadata": {
    "scrolled": true
   },
   "outputs": [
    {
     "name": "stdout",
     "output_type": "stream",
     "text": [
      "dict_items([('type', 'FeatureCollection'), ('features', [{'id': '0', 'type': 'Feature', 'properties': {'@id': 'https://api.weather.gov/stations/KCQT/observations/2024-04-16T18:47:00+00:00', '@type': 'wx:ObservationStation', 'elevation': {'unitCode': 'wmoUnit:m', 'value': 56}, 'station': 'https://api.weather.gov/stations/KCQT', 'timestamp': '2024-04-16T18:47:00+00:00', 'rawMessage': 'KCQT 161847Z AUTO 00000KT 10SM CLR 24/09 A3003 RMK AO2 SLP168 T02390089 $', 'textDescription': 'Clear', 'icon': 'https://api.weather.gov/icons/land/day/skc?size=medium', 'presentWeather': [], 'temperature': {'unitCode': 'wmoUnit:degC', 'value': 23.9, 'qualityControl': 'V'}, 'dewpoint': {'unitCode': 'wmoUnit:degC', 'value': 8.9, 'qualityControl': 'V'}, 'windDirection': {'unitCode': 'wmoUnit:degree_(angle)', 'value': 0, 'qualityControl': 'V'}, 'windSpeed': {'unitCode': 'wmoUnit:km_h-1', 'value': 0, 'qualityControl': 'V'}, 'windGust': {'unitCode': 'wmoUnit:km_h-1', 'value': None, 'qualityControl': 'Z'}, 'barometricPressure': {'unitCode': 'wmoUnit:Pa', 'value': 101690, 'qualityControl': 'V'}, 'seaLevelPressure': {'unitCode': 'wmoUnit:Pa', 'value': 101680, 'qualityControl': 'V'}, 'visibility': {'unitCode': 'wmoUnit:m', 'value': 16090, 'qualityControl': 'C'}, 'maxTemperatureLast24Hours': {'unitCode': 'wmoUnit:degC', 'value': None}, 'minTemperatureLast24Hours': {'unitCode': 'wmoUnit:degC', 'value': None}, 'precipitationLastHour': {'unitCode': 'wmoUnit:mm', 'value': None, 'qualityControl': 'Z'}, 'precipitationLast3Hours': {'unitCode': 'wmoUnit:mm', 'value': None, 'qualityControl': 'Z'}, 'precipitationLast6Hours': {'unitCode': 'wmoUnit:mm', 'value': None, 'qualityControl': 'Z'}, 'relativeHumidity': {'unitCode': 'wmoUnit:percent', 'value': 38.465645386488, 'qualityControl': 'V'}, 'windChill': {'unitCode': 'wmoUnit:degC', 'value': None, 'qualityControl': 'V'}, 'heatIndex': {'unitCode': 'wmoUnit:degC', 'value': 23.349936296202777, 'qualityControl': 'V'}, 'cloudLayers': [{'base': {'unitCode': 'wmoUnit:m', 'value': None}, 'amount': 'CLR'}]}, 'geometry': {'type': 'Point', 'coordinates': (-118.28, 34.02)}, 'bbox': (-118.28, 34.02, -118.28, 34.02)}]), ('bbox', (-118.28, 34.02, -118.28, 34.02))])\n"
     ]
    }
   ],
   "source": [
    "items = gdf.items()\n",
    "print(items)"
   ]
  },
  {
   "cell_type": "code",
   "execution_count": 10,
   "id": "6cb76aef",
   "metadata": {
    "scrolled": true
   },
   "outputs": [
    {
     "name": "stdout",
     "output_type": "stream",
     "text": [
      "['FeatureCollection', [{'id': '0', 'type': 'Feature', 'properties': {'@id': 'https://api.weather.gov/stations/KCQT/observations/2024-04-16T18:47:00+00:00', '@type': 'wx:ObservationStation', 'elevation': {'unitCode': 'wmoUnit:m', 'value': 56}, 'station': 'https://api.weather.gov/stations/KCQT', 'timestamp': '2024-04-16T18:47:00+00:00', 'rawMessage': 'KCQT 161847Z AUTO 00000KT 10SM CLR 24/09 A3003 RMK AO2 SLP168 T02390089 $', 'textDescription': 'Clear', 'icon': 'https://api.weather.gov/icons/land/day/skc?size=medium', 'presentWeather': [], 'temperature': {'unitCode': 'wmoUnit:degC', 'value': 23.9, 'qualityControl': 'V'}, 'dewpoint': {'unitCode': 'wmoUnit:degC', 'value': 8.9, 'qualityControl': 'V'}, 'windDirection': {'unitCode': 'wmoUnit:degree_(angle)', 'value': 0, 'qualityControl': 'V'}, 'windSpeed': {'unitCode': 'wmoUnit:km_h-1', 'value': 0, 'qualityControl': 'V'}, 'windGust': {'unitCode': 'wmoUnit:km_h-1', 'value': None, 'qualityControl': 'Z'}, 'barometricPressure': {'unitCode': 'wmoUnit:Pa', 'value': 101690, 'qualityControl': 'V'}, 'seaLevelPressure': {'unitCode': 'wmoUnit:Pa', 'value': 101680, 'qualityControl': 'V'}, 'visibility': {'unitCode': 'wmoUnit:m', 'value': 16090, 'qualityControl': 'C'}, 'maxTemperatureLast24Hours': {'unitCode': 'wmoUnit:degC', 'value': None}, 'minTemperatureLast24Hours': {'unitCode': 'wmoUnit:degC', 'value': None}, 'precipitationLastHour': {'unitCode': 'wmoUnit:mm', 'value': None, 'qualityControl': 'Z'}, 'precipitationLast3Hours': {'unitCode': 'wmoUnit:mm', 'value': None, 'qualityControl': 'Z'}, 'precipitationLast6Hours': {'unitCode': 'wmoUnit:mm', 'value': None, 'qualityControl': 'Z'}, 'relativeHumidity': {'unitCode': 'wmoUnit:percent', 'value': 38.465645386488, 'qualityControl': 'V'}, 'windChill': {'unitCode': 'wmoUnit:degC', 'value': None, 'qualityControl': 'V'}, 'heatIndex': {'unitCode': 'wmoUnit:degC', 'value': 23.349936296202777, 'qualityControl': 'V'}, 'cloudLayers': [{'base': {'unitCode': 'wmoUnit:m', 'value': None}, 'amount': 'CLR'}]}, 'geometry': {'type': 'Point', 'coordinates': (-118.28, 34.02)}, 'bbox': (-118.28, 34.02, -118.28, 34.02)}], (-118.28, 34.02, -118.28, 34.02)]\n"
     ]
    }
   ],
   "source": [
    "values_list = list(gdf.values())\n",
    "print(values_list)"
   ]
  },
  {
   "cell_type": "code",
   "execution_count": 11,
   "id": "a52deec7",
   "metadata": {
    "scrolled": true
   },
   "outputs": [
    {
     "data": {
      "text/plain": [
       "list"
      ]
     },
     "execution_count": 11,
     "metadata": {},
     "output_type": "execute_result"
    }
   ],
   "source": [
    "type(values_list)"
   ]
  },
  {
   "cell_type": "code",
   "execution_count": 12,
   "id": "cdcdb3f9",
   "metadata": {},
   "outputs": [],
   "source": [
    "# Extracting relevent data to pass on"
   ]
  },
  {
   "cell_type": "code",
   "execution_count": 13,
   "id": "98c911de",
   "metadata": {},
   "outputs": [],
   "source": [
    "# Current Conditions STRING Value (CurrentConditionValue)"
   ]
  },
  {
   "cell_type": "code",
   "execution_count": 14,
   "id": "ed121a68",
   "metadata": {
    "scrolled": false
   },
   "outputs": [
    {
     "name": "stdout",
     "output_type": "stream",
     "text": [
      "Clear\n"
     ]
    },
    {
     "data": {
      "text/plain": [
       "str"
      ]
     },
     "execution_count": 14,
     "metadata": {},
     "output_type": "execute_result"
    }
   ],
   "source": [
    "tree_obj = objectpath.Tree(values_list)\n",
    "CurrentCondition = tuple(tree_obj.execute('$..textDescription'))\n",
    "CurrentConditionValue = CurrentCondition[0]\n",
    "print(CurrentConditionValue)\n",
    "type(CurrentConditionValue)"
   ]
  },
  {
   "cell_type": "code",
   "execution_count": 15,
   "id": "8948ed0e",
   "metadata": {},
   "outputs": [],
   "source": [
    "# Current Temperature FLOAT Value (TempC)"
   ]
  },
  {
   "cell_type": "code",
   "execution_count": 16,
   "id": "d5602734",
   "metadata": {},
   "outputs": [
    {
     "name": "stdout",
     "output_type": "stream",
     "text": [
      "23.9\n"
     ]
    },
    {
     "data": {
      "text/plain": [
       "float"
      ]
     },
     "execution_count": 16,
     "metadata": {},
     "output_type": "execute_result"
    }
   ],
   "source": [
    "tree_obj = objectpath.Tree(values_list)\n",
    "temp_obj = tuple(tree_obj.execute('$..temperature'))\n",
    "temp_value = str(temp_obj)\n",
    "tempC = temp_value[39:]\n",
    "tempC = tempC[:4]\n",
    "tempC = float(tempC)\n",
    "print(tempC)\n",
    "type(tempC)"
   ]
  },
  {
   "cell_type": "code",
   "execution_count": 17,
   "id": "e67112f9",
   "metadata": {},
   "outputs": [],
   "source": [
    "# Converting Temperature FLOAT Value to (TempF)"
   ]
  },
  {
   "cell_type": "code",
   "execution_count": 18,
   "id": "661bdf85",
   "metadata": {},
   "outputs": [
    {
     "name": "stdout",
     "output_type": "stream",
     "text": [
      "75.0\n"
     ]
    }
   ],
   "source": [
    "tempF = round((tempC * (9/5)) + 32, 1)\n",
    "print(tempF)"
   ]
  },
  {
   "cell_type": "markdown",
   "id": "4c89c53e",
   "metadata": {},
   "source": [
    "#"
   ]
  },
  {
   "cell_type": "markdown",
   "id": "5c425e0d",
   "metadata": {},
   "source": [
    "# Currency API Data Retreival to get EUR exchange Rate"
   ]
  },
  {
   "cell_type": "code",
   "execution_count": 19,
   "id": "74fc15b4",
   "metadata": {
    "scrolled": true
   },
   "outputs": [
    {
     "name": "stdout",
     "output_type": "stream",
     "text": [
      "{'result': 'success', 'provider': 'https://www.exchangerate-api.com', 'documentation': 'https://www.exchangerate-api.com/docs/free', 'terms_of_use': 'https://www.exchangerate-api.com/terms', 'time_last_update_unix': 1713225751, 'time_last_update_utc': 'Tue, 16 Apr 2024 00:02:31 +0000', 'time_next_update_unix': 1713313901, 'time_next_update_utc': 'Wed, 17 Apr 2024 00:31:41 +0000', 'time_eol_unix': 0, 'base_code': 'USD', 'rates': {'USD': 1, 'AED': 3.6725, 'AFN': 71.330476, 'ALL': 94.892664, 'AMD': 395.117229, 'ANG': 1.79, 'AOA': 843.98051, 'ARS': 864.75, 'AUD': 1.548452, 'AWG': 1.79, 'AZN': 1.700416, 'BAM': 1.839241, 'BBD': 2, 'BDT': 109.730478, 'BGN': 1.838829, 'BHD': 0.376, 'BIF': 2863.741155, 'BMD': 1, 'BND': 1.362052, 'BOB': 6.932297, 'BRL': 5.125493, 'BSD': 1, 'BTN': 83.51152, 'BWP': 13.799132, 'BYN': 3.266287, 'BZD': 2, 'CAD': 1.376675, 'CDF': 2748.332289, 'CHF': 0.912434, 'CLP': 963.35606, 'CNY': 7.250514, 'COP': 3853.107488, 'CRC': 501.195957, 'CUP': 24, 'CVE': 103.691988, 'CZK': 23.789612, 'DJF': 177.721, 'DKK': 7.01703, 'DOP': 59.14903, 'DZD': 134.542463, 'EGP': 48.2752, 'ERN': 15, 'ETB': 56.864122, 'EUR': 0.940385, 'FJD': 2.266812, 'FKP': 0.802839, 'FOK': 7.016981, 'GBP': 0.802842, 'GEL': 2.669046, 'GGP': 0.802839, 'GHS': 13.520381, 'GIP': 0.802839, 'GMD': 66.079251, 'GNF': 8576.862873, 'GTQ': 7.7842, 'GYD': 209.236091, 'HKD': 7.829647, 'HNL': 24.679236, 'HRK': 7.085361, 'HTG': 132.541432, 'HUF': 370.266135, 'IDR': 16001.357993, 'ILS': 3.740846, 'IMP': 0.802839, 'INR': 83.511556, 'IQD': 1310.542143, 'IRR': 42045.136919, 'ISK': 141.436538, 'JEP': 0.802839, 'JMD': 154.946277, 'JOD': 0.709, 'JPY': 154.083941, 'KES': 130.308118, 'KGS': 89.265145, 'KHR': 4051.933285, 'KID': 1.548427, 'KMF': 462.641036, 'KRW': 1385.124193, 'KWD': 0.308081, 'KYD': 0.833333, 'KZT': 449.118752, 'LAK': 20921.7799, 'LBP': 89500, 'LKR': 298.701442, 'LRD': 193.963016, 'LSL': 18.983495, 'LYD': 4.833494, 'MAD': 10.139188, 'MDL': 17.645274, 'MGA': 4358.557237, 'MKD': 57.481296, 'MMK': 2097.267227, 'MNT': 3385.319192, 'MOP': 8.064536, 'MRU': 39.739078, 'MUR': 47.094813, 'MVR': 15.435898, 'MWK': 1741.779996, 'MXN': 16.689917, 'MYR': 4.778813, 'MZN': 64.040142, 'NAD': 18.983495, 'NGN': 1143.891483, 'NIO': 36.799208, 'NOK': 10.935246, 'NPR': 133.618432, 'NZD': 1.690564, 'OMR': 0.384497, 'PAB': 1, 'PEN': 3.699492, 'PGK': 3.78128, 'PHP': 56.895777, 'PKR': 278.167207, 'PLN': 4.041509, 'PYG': 7363.190207, 'QAR': 3.64, 'RON': 4.670233, 'RSD': 109.992289, 'RUB': 93.551988, 'RWF': 1300.846282, 'SAR': 3.75, 'SBD': 8.510328, 'SCR': 13.910922, 'SDG': 453.995642, 'SEK': 10.881469, 'SGD': 1.362053, 'SHP': 0.802839, 'SLE': 22.592318, 'SLL': 22592.318335, 'SOS': 571.403911, 'SRD': 34.939216, 'SSP': 1560.104699, 'STN': 23.039529, 'SYP': 12914.468477, 'SZL': 18.983495, 'THB': 36.743128, 'TJS': 10.935364, 'TMT': 3.499838, 'TND': 3.143346, 'TOP': 2.346336, 'TRY': 32.426545, 'TTD': 6.764048, 'TVD': 1.548427, 'TWD': 32.413459, 'TZS': 2581.82977, 'UAH': 39.592463, 'UGX': 3804.866197, 'UYU': 38.739444, 'UZS': 12752.77484, 'VES': 36.2889, 'VND': 25180.81198, 'VUV': 120.14945, 'WST': 2.768369, 'XAF': 616.854715, 'XCD': 2.7, 'XDR': 0.759644, 'XOF': 616.854715, 'XPF': 112.218494, 'YER': 250.24806, 'ZAR': 18.983505, 'ZMW': 24.993202, 'ZWL': 13.4027}}\n"
     ]
    }
   ],
   "source": [
    "def fetch_data_from_api(api_url):\n",
    "    try:\n",
    "        response = requests.get(api_url)\n",
    "        response.raise_for_status() # Raise an exception for 4xx or 5xx status codes\n",
    "        data = response.json()\n",
    "        return data\n",
    "    except requests.exceptions.RequestException as e:\n",
    "        print(f\"Error fetching data from API: {e}\")\n",
    "        return None\n",
    "api_url = \"https://open.er-api.com/v6/latest/USD\"\n",
    "data = fetch_data_from_api(api_url)\n",
    "if data:\n",
    "    print(data) # or do whatever you want with the data\n",
    "else:\n",
    "    print(\"Failed to fetch data from API.\")"
   ]
  },
  {
   "cell_type": "code",
   "execution_count": 20,
   "id": "3e941f37",
   "metadata": {},
   "outputs": [
    {
     "data": {
      "text/plain": [
       "dict"
      ]
     },
     "execution_count": 20,
     "metadata": {},
     "output_type": "execute_result"
    }
   ],
   "source": [
    "type(data)"
   ]
  },
  {
   "cell_type": "code",
   "execution_count": 21,
   "id": "422b65a2",
   "metadata": {},
   "outputs": [],
   "source": [
    "# Extracting current Eur rates per USD and converting $1000 EUR to USD to pass on"
   ]
  },
  {
   "cell_type": "code",
   "execution_count": 22,
   "id": "9fb5d398",
   "metadata": {},
   "outputs": [
    {
     "name": "stdout",
     "output_type": "stream",
     "text": [
      "0.940385\n",
      "1000\n",
      "940.38\n"
     ]
    }
   ],
   "source": [
    "rates_data = {}\n",
    "EUR = 1000\n",
    "USD = 0\n",
    "\n",
    "for k in data.keys():\n",
    "    if 'rates' in k:\n",
    "        rates_data[k] = data[k]\n",
    "\n",
    "EUREXCH = rates_data['rates']['EUR']\n",
    "\n",
    "print(EUREXCH)\n",
    "print(EUR)\n",
    "USD = round(EUR * EUREXCH, 2)\n",
    "print(USD)\n"
   ]
  },
  {
   "cell_type": "markdown",
   "id": "df06ceca",
   "metadata": {},
   "source": [
    "#"
   ]
  },
  {
   "cell_type": "markdown",
   "id": "a4af8c55",
   "metadata": {},
   "source": [
    "# BrewPub API Data Retreival to identify a random BrewPub in LA\n",
    "## BrewPub must have a URL and Phone Number"
   ]
  },
  {
   "cell_type": "code",
   "execution_count": 23,
   "id": "e9dd16bc",
   "metadata": {},
   "outputs": [],
   "source": [
    "# API Query to retreive a list of Breweries of all types in Los Angeles"
   ]
  },
  {
   "cell_type": "code",
   "execution_count": 24,
   "id": "64c7a28f",
   "metadata": {},
   "outputs": [
    {
     "name": "stdout",
     "output_type": "stream",
     "text": [
      "[{'id': 'c757354b-e5a2-403f-9e90-b8f8fc5ab229', 'name': 'Los Angeles Ale Works', 'brewery_type': 'micro', 'address_1': '12918 Cerise Ave', 'address_2': None, 'address_3': None, 'city': 'Hawthorne', 'state_province': 'California', 'postal_code': '90250-5521', 'country': 'United States', 'longitude': '-118.3322768', 'latitude': '33.9149155', 'phone': '4244564191', 'website_url': 'http://www.laaleworks.com', 'state': 'California', 'street': '12918 Cerise Ave'}, {'id': '7d78f227-f2c5-4830-abb5-28a209de235d', 'name': 'Anheuser-Busch Inc - Los Angeles', 'brewery_type': 'large', 'address_1': '15800 Roscoe Blvd', 'address_2': None, 'address_3': None, 'city': 'Van Nuys', 'state_province': 'California', 'postal_code': '91406-1350', 'country': 'United States', 'longitude': '-118.4721072', 'latitude': '34.2213918', 'phone': '8189895300', 'website_url': None, 'state': 'California', 'street': '15800 Roscoe Blvd'}, {'id': 'defbc961-6100-4d7c-a4c1-8c99fd794931', 'name': 'Karl Strauss Brewing Co - Downtown Los Angeles', 'brewery_type': 'brewpub', 'address_1': '600 Wilshire Blvd Ste 100', 'address_2': None, 'address_3': None, 'city': 'Los Angeles', 'state_province': 'California', 'postal_code': '90017-3212', 'country': 'United States', 'longitude': '-118.256154', 'latitude': '34.047978', 'phone': '2132282739', 'website_url': None, 'state': 'California', 'street': '600 Wilshire Blvd Ste 100'}, {'id': '32fba728-f8b1-47e4-8cf4-78ad87bd4640', 'name': 'Eagle Rock Brewery', 'brewery_type': 'micro', 'address_1': '3056 Roswell St', 'address_2': None, 'address_3': None, 'city': 'Los Angeles', 'state_province': 'California', 'postal_code': '90065-2214', 'country': 'United States', 'longitude': '-118.2440377', 'latitude': '34.11473143', 'phone': '3232577866', 'website_url': 'http://www.eaglerockbrewery.com', 'state': 'California', 'street': '3056 Roswell St'}, {'id': '3dae53ba-0f35-4f1f-92fd-f29f05aaf5fc', 'name': 'Dry River Brewing', 'brewery_type': 'micro', 'address_1': '671 S Anderson St', 'address_2': None, 'address_3': None, 'city': 'Los Angeles', 'state_province': 'California', 'postal_code': '90023-1110', 'country': 'United States', 'longitude': '-118.2233015', 'latitude': '34.03638739', 'phone': '2133755235', 'website_url': 'http://www.dryriverbrewing.com', 'state': 'California', 'street': '671 S Anderson St'}, {'id': '46c262c0-2b6f-42d6-84df-1da1a1656095', 'name': 'Einstok Beer Company', 'brewery_type': 'contract', 'address_1': '12381 Wilshire Blvd Suite 105', 'address_2': None, 'address_3': None, 'city': 'Los Angeles', 'state_province': 'California', 'postal_code': '90025', 'country': 'United States', 'longitude': '-118.4704166', 'latitude': '34.0423497', 'phone': '4242180179', 'website_url': 'http://einstokbeer.com', 'state': 'California', 'street': '12381 Wilshire Blvd Suite 105'}, {'id': '70972189-e029-4a8e-ba79-da86b66ba67e', 'name': 'MBF Brewing Co', 'brewery_type': 'closed', 'address_1': '530 W 7th St Apt 401', 'address_2': None, 'address_3': None, 'city': 'Los Angeles', 'state_province': 'California', 'postal_code': '90014-2507', 'country': 'United States', 'longitude': '-118.2564646', 'latitude': '34.04700723', 'phone': '8315217921', 'website_url': 'http://www.MBFcompany.com', 'state': 'California', 'street': '530 W 7th St Apt 401'}, {'id': '7721c302-94ba-4036-b9dc-edece3663bdb', 'name': 'Highland Park Brewery', 'brewery_type': 'brewpub', 'address_1': '1229 N Spring St', 'address_2': None, 'address_3': None, 'city': 'Los Angeles', 'state_province': 'California', 'postal_code': '90012', 'country': 'United States', 'longitude': '-118.2339922', 'latitude': '34.06593582', 'phone': '3237396459', 'website_url': None, 'state': 'California', 'street': '1229 N Spring St'}, {'id': '78b32146-8ea4-49b3-b97a-2d03b3cfd237', 'name': 'Frogtown Brewery', 'brewery_type': 'micro', 'address_1': '2931 Gilroy St', 'address_2': None, 'address_3': None, 'city': 'Los Angeles', 'state_province': 'California', 'postal_code': '90039-2817', 'country': 'United States', 'longitude': '-118.2515209', 'latitude': '34.10656552', 'phone': '3234522739', 'website_url': 'http://www.frogtownbrewery.com', 'state': 'California', 'street': '2931 Gilroy St'}, {'id': '793d1d94-9504-437a-9603-a5c0ad987c95', 'name': 'The Stalking Horse', 'brewery_type': 'brewpub', 'address_1': '10543 West Pico Blvd', 'address_2': None, 'address_3': None, 'city': 'Los Angeles', 'state_province': 'California', 'postal_code': '90064', 'country': 'United States', 'longitude': '-118.3273271', 'latitude': '34.0478786', 'phone': '4248327511', 'website_url': 'http://www.thestalkinghorsepub.com', 'state': 'California', 'street': '10543 West Pico Blvd'}, {'id': '871b70be-e09e-4936-8b29-f92c0d2e2667', 'name': 'Bonaventure Brewing Co', 'brewery_type': 'brewpub', 'address_1': '404 S Figueroa St Ste 418A', 'address_2': None, 'address_3': None, 'city': 'Los Angeles', 'state_province': 'California', 'postal_code': '90071-1797', 'country': 'United States', 'longitude': '-118.2562113', 'latitude': '34.05314634', 'phone': '2132360802', 'website_url': 'http://www.bonaventurebrewing.com', 'state': 'California', 'street': '404 S Figueroa St Ste 418A'}, {'id': '9db35316-e5f4-485f-a071-addf0a05feb0', 'name': 'Mumford Brewing Company', 'brewery_type': 'micro', 'address_1': '416 Boyd St', 'address_2': None, 'address_3': None, 'city': 'Los Angeles', 'state_province': 'California', 'postal_code': '90013-1631', 'country': 'United States', 'longitude': '-118.2425998', 'latitude': '34.0464181', 'phone': '6263759353', 'website_url': 'http://www.mumfordbrewing.com', 'state': 'California', 'street': '416 Boyd St'}, {'id': 'a760e66e-82a3-4f7d-8145-bc3f79c995e2', 'name': 'Solarc Brewing', 'brewery_type': 'contract', 'address_1': '134 S Avenue 57', 'address_2': None, 'address_3': None, 'city': 'Los Angeles', 'state_province': 'California', 'postal_code': '90042-4702', 'country': 'United States', 'longitude': None, 'latitude': None, 'phone': '6319442990', 'website_url': 'http://www.solarcbrewing.com', 'state': 'California', 'street': '134 S Avenue 57'}, {'id': 'a8a965c8-b4d8-4699-b418-ad6cf8d9133e', 'name': 'Reel Brew Co', 'brewery_type': 'closed', 'address_1': '7037 Laurel Canyon Boulevard', 'address_2': None, 'address_3': None, 'city': 'Los Angeles', 'state_province': 'California', 'postal_code': '91605', 'country': 'United States', 'longitude': '-118.3973933', 'latitude': '34.19896605', 'phone': None, 'website_url': None, 'state': 'California', 'street': '7037 Laurel Canyon Boulevard'}, {'id': 'aa877eb8-397a-4230-a379-c9424d9ca96d', 'name': 'Boomtown Brewery', 'brewery_type': 'micro', 'address_1': '700 Jackson St', 'address_2': None, 'address_3': None, 'city': 'Los Angeles', 'state_province': 'California', 'postal_code': '90012-3443', 'country': 'United States', 'longitude': '-118.233179', 'latitude': '34.0507711', 'phone': '2136178497', 'website_url': 'http://www.boomtownbrew.com', 'state': 'California', 'street': '700 Jackson St'}, {'id': 'af6cb069-b61a-4c69-8fd2-0a5f87c11a17', 'name': '6th and La Brea', 'brewery_type': 'brewpub', 'address_1': '600 South La Brea Ave', 'address_2': None, 'address_3': None, 'city': 'Los Angeles', 'state_province': 'California', 'postal_code': '90036', 'country': 'United States', 'longitude': '-118.3440213', 'latitude': '34.0730485', 'phone': None, 'website_url': 'http://www.6thlabrea.com', 'state': 'California', 'street': '600 South La Brea Ave'}, {'id': 'be95afe2-de19-4b3b-8c83-a24ac9cd4aa7', 'name': 'Angel City Brewery', 'brewery_type': 'micro', 'address_1': '216 S Alameda St', 'address_2': None, 'address_3': None, 'city': 'Los Angeles', 'state_province': 'California', 'postal_code': '90012-4201', 'country': 'United States', 'longitude': '-118.237715', 'latitude': '34.04627065', 'phone': '2136221261', 'website_url': 'http://www.angelcitybrewery.com', 'state': 'California', 'street': '216 S Alameda St'}, {'id': 'c0757e3d-a7d9-485c-8bf2-919886691990', 'name': 'Ohana Brewing Co', 'brewery_type': 'micro', 'address_1': '1756 E 23rd St', 'address_2': None, 'address_3': None, 'city': 'Los Angeles', 'state_province': 'California', 'postal_code': '90058-1012', 'country': 'United States', 'longitude': '-118.2415609', 'latitude': '34.01575629', 'phone': '6262822337', 'website_url': 'http://www.ohanabrew.com', 'state': 'California', 'street': '1756 E 23rd St'}, {'id': 'cbf3abb3-0bea-4d9c-ae71-d6e0022c49ce', 'name': 'Golden Road Brewing', 'brewery_type': 'large', 'address_1': '5430 W San Fernando Rd', 'address_2': None, 'address_3': None, 'city': 'Los Angeles', 'state_province': 'California', 'postal_code': '90039-1015', 'country': 'United States', 'longitude': '-118.2744781', 'latitude': '34.15049571', 'phone': '2135426039', 'website_url': 'http://www.goldenroad.la', 'state': 'California', 'street': '5430 W San Fernando Rd'}, {'id': 'cc4ccff2-93f4-4134-b2a6-53d06a3e2c89', 'name': 'Iron Triangle Brewing Company', 'brewery_type': 'micro', 'address_1': '1581 Industrial St', 'address_2': None, 'address_3': None, 'city': 'Los Angeles', 'state_province': 'California', 'postal_code': '90021-1217', 'country': 'United States', 'longitude': '-118.2373618', 'latitude': '34.03612189', 'phone': '3109905702', 'website_url': 'http://www.irontrianglebrewing.com', 'state': 'California', 'street': '1581 Industrial St'}, {'id': 'dcb29c7b-b8ee-4ae0-a762-aa0df714dddd', 'name': 'Indie Brewing Company', 'brewery_type': 'micro', 'address_1': '2350 Sunrise St', 'address_2': None, 'address_3': None, 'city': 'Los Angeles', 'state_province': 'California', 'postal_code': '90023-1036', 'country': 'United States', 'longitude': '-118.2227391', 'latitude': '34.0358529', 'phone': '3233544285', 'website_url': 'http://indiebrewco.com', 'state': 'California', 'street': '2350 Sunrise St'}, {'id': 'dcc25aca-8440-4542-a8b4-120d13f83527', 'name': 'Lawless Brewing', 'brewery_type': 'planning', 'address_1': None, 'address_2': None, 'address_3': None, 'city': 'Los Angeles', 'state_province': 'California', 'postal_code': '90068-1436', 'country': 'United States', 'longitude': '-118.2427669', 'latitude': '34.0536834', 'phone': '8184567345', 'website_url': 'http://www.lawlessbeer.com', 'state': 'California', 'street': None}, {'id': 'df95ed92-c30c-4c27-8608-b3b59e7e59b0', 'name': 'Homage Brewing', 'brewery_type': 'micro', 'address_1': '1219 N Main St', 'address_2': None, 'address_3': None, 'city': 'Los Angeles', 'state_province': 'California', 'postal_code': '90012', 'country': 'United States', 'longitude': '-118.2324815', 'latitude': '34.0646086', 'phone': None, 'website_url': 'http://www.homagebrewing.com/', 'state': 'California', 'street': '1219 N Main St'}, {'id': 'e1b4b1c8-ea94-48e8-986e-38e025510a75', 'name': 'Wiretap Brewing Corporation', 'brewery_type': 'micro', 'address_1': '341B South Avenue 17', 'address_2': None, 'address_3': None, 'city': 'Los Angeles', 'state_province': 'California', 'postal_code': '90031', 'country': 'United States', 'longitude': '-118.2220376', 'latitude': '34.06852346', 'phone': None, 'website_url': 'http://www.wiretapbrewing.com', 'state': 'California', 'street': '341B South Avenue 17'}, {'id': 'ed7c9e44-df88-4e3e-8ed2-54af6f4539e5', 'name': 'Arts District Brewing Company', 'brewery_type': 'brewpub', 'address_1': '828 Traction Ave', 'address_2': None, 'address_3': None, 'city': 'Los Angeles', 'state_province': 'California', 'postal_code': '90013-1816', 'country': 'United States', 'longitude': '-118.2357029', 'latitude': '34.04505443', 'phone': None, 'website_url': None, 'state': 'California', 'street': '828 Traction Ave'}, {'id': 'f8fb8119-a992-4ae9-a859-60485f7b20be', 'name': 'Highland Park Brewery', 'brewery_type': 'micro', 'address_1': '5125 York Blvd', 'address_2': None, 'address_3': None, 'city': 'Los Angeles', 'state_province': 'California', 'postal_code': '90042', 'country': 'United States', 'longitude': '-118.1807106', 'latitude': '34.1141508', 'phone': '4255011255', 'website_url': 'http://www.hpb.la', 'state': 'California', 'street': '5125 York Blvd'}]\n"
     ]
    }
   ],
   "source": [
    "def fetch_data_from_api(api_url):\n",
    "    try:\n",
    "        response = requests.get(api_url)\n",
    "        response.raise_for_status() # Raise an exception for 4xx or 5xx status codes\n",
    "        data = response.json()\n",
    "        return data\n",
    "    except requests.exceptions.RequestException as e:\n",
    "        print(f\"Error fetching data from API: {e}\")\n",
    "        return None\n",
    "api_url = \"https://api.openbrewerydb.org/v1/breweries/search?query=los%20angeles\"\n",
    "data = fetch_data_from_api(api_url)\n",
    "if data:\n",
    "    print(data) # or do whatever you want with the data\n",
    "else:\n",
    "    print(\"Failed to fetch data from API.\")"
   ]
  },
  {
   "cell_type": "code",
   "execution_count": 25,
   "id": "26a77fff",
   "metadata": {},
   "outputs": [],
   "source": [
    "# Process to select BrewPubs, which have beer and food, and eliminate BrewPubs that do not have website or phone numbers listed\n",
    "# Lastly, if there are more than 1 return, I randomly pick one from the returns"
   ]
  },
  {
   "cell_type": "code",
   "execution_count": 26,
   "id": "e34e4075",
   "metadata": {},
   "outputs": [
    {
     "name": "stdout",
     "output_type": "stream",
     "text": [
      "                                      id                    name brewery_type  \\\n",
      "10  871b70be-e09e-4936-8b29-f92c0d2e2667  Bonaventure Brewing Co      brewpub   \n",
      "\n",
      "                     address_1 address_2 address_3         city  \\\n",
      "10  404 S Figueroa St Ste 418A      None      None  Los Angeles   \n",
      "\n",
      "   state_province postal_code        country     longitude     latitude  \\\n",
      "10     California  90071-1797  United States  -118.2562113  34.05314634   \n",
      "\n",
      "         phone                        website_url       state  \\\n",
      "10  2132360802  http://www.bonaventurebrewing.com  California   \n",
      "\n",
      "                        street  \n",
      "10  404 S Figueroa St Ste 418A  \n"
     ]
    }
   ],
   "source": [
    "df = pd.DataFrame(data)\n",
    "#df = pd.DataFrame(data, columns=['id', 'name', 'brewery_type', 'address_1', 'address_2', 'address_3', 'city', 'state_province', 'postal_code', 'country', 'longitude', 'latitude', 'phone', 'website_url', 'state', 'street'])\n",
    "df.to_csv(\"brewery.csv\", index = False)\n",
    "df_1 = df[df['website_url'].notna()]\n",
    "df_2 = df_1[df_1['phone'].notna()]\n",
    "df_3 = df_2[df_2['brewery_type'] == 'brewpub']\n",
    "df_4 = df_3.sample(n=1)\n",
    "print(df_4)"
   ]
  },
  {
   "cell_type": "code",
   "execution_count": 27,
   "id": "3925cc07",
   "metadata": {},
   "outputs": [],
   "source": [
    "#Extracting relevent data to pass on"
   ]
  },
  {
   "cell_type": "code",
   "execution_count": 28,
   "id": "aacdf627",
   "metadata": {},
   "outputs": [
    {
     "name": "stdout",
     "output_type": "stream",
     "text": [
      "Bonaventure Brewing Co 2132360802 http://www.bonaventurebrewing.com\n"
     ]
    }
   ],
   "source": [
    "BrewName = df_4.iat[0,1]\n",
    "BrewPhone = df_4.iat[0,12]\n",
    "BrewURL = df_4.iat[0,13]\n",
    "print(BrewName, BrewPhone, BrewURL)"
   ]
  },
  {
   "cell_type": "markdown",
   "id": "bb97f5cd",
   "metadata": {},
   "source": [
    "#"
   ]
  },
  {
   "cell_type": "markdown",
   "id": "160c414d",
   "metadata": {},
   "source": [
    "# Custom API Put / Update"
   ]
  },
  {
   "cell_type": "code",
   "execution_count": 38,
   "id": "58eea727",
   "metadata": {
    "scrolled": true
   },
   "outputs": [
    {
     "name": "stdout",
     "output_type": "stream",
     "text": [
      "Clear 75.0 940.38 Bonaventure Brewing Co 2132360802 http://www.bonaventurebrewing.com\n"
     ]
    }
   ],
   "source": [
    "#Confirming that all values are present\n",
    "print(CurrentConditionValue, tempF,USD, BrewName, BrewPhone, BrewURL)"
   ]
  },
  {
   "cell_type": "code",
   "execution_count": 34,
   "id": "bb75d830",
   "metadata": {},
   "outputs": [],
   "source": [
    "#Update Custom API with API UPDATE"
   ]
  },
  {
   "cell_type": "code",
   "execution_count": 43,
   "id": "60d4b855",
   "metadata": {
    "scrolled": true
   },
   "outputs": [
    {
     "name": "stdout",
     "output_type": "stream",
     "text": [
      "{'id': 0, 'wtemp': 75.0, 'wdescription': 'Clear', 'currency': 940.38, 'brewname': 'Bonaventure Brewing Co', 'brewurl': 'http://www.bonaventurebrewing.com', 'brewphone': '2132360802'}\n",
      "\n",
      "{'message': {'wtemp': 'Temp in Celsius'}}\n"
     ]
    }
   ],
   "source": [
    "BASE = \" http://127.0.0.1:5000/\"\n",
    "APP_VERSION = \"v1/\"\n",
    "\n",
    "data = [{'wtemp': tempF, 'wdescription': CurrentConditionValue, 'currency': USD, 'brewname': BrewName, 'brewurl': BrewURL, 'brewphone': BrewPhone}]\n",
    "for i in range(len(data)):\n",
    "    response = requests.patch(BASE + APP_VERSION + \"data/\" + str(i), data[i])\n",
    "    print(response.json())\n",
    "\n",
    "    input()\n",
    "    response = requests.patch(BASE + APP_VERSION + \"data/2\")\n",
    "    print(response.json())"
   ]
  },
  {
   "cell_type": "code",
   "execution_count": 81,
   "id": "a3578ed9",
   "metadata": {},
   "outputs": [],
   "source": [
    "#Confirm Update with Customer API GET"
   ]
  },
  {
   "cell_type": "code",
   "execution_count": 44,
   "id": "796b5e9f",
   "metadata": {},
   "outputs": [
    {
     "name": "stdout",
     "output_type": "stream",
     "text": [
      "{'id': 0, 'wtemp': 75.0, 'wdescription': 'Clear', 'currency': 940.38, 'brewname': 'Bonaventure Brewing Co', 'brewurl': 'http://www.bonaventurebrewing.com', 'brewphone': '2132360802'}\n"
     ]
    }
   ],
   "source": [
    "BASE = \" http://127.0.0.1:5000/\"\n",
    "APP_VERSION = \"v1/\"\n",
    "\n",
    "response = requests.get(BASE + APP_VERSION + \"data/0\")\n",
    "print(response.json())"
   ]
  },
  {
   "cell_type": "code",
   "execution_count": null,
   "id": "dbd8a1d1",
   "metadata": {},
   "outputs": [],
   "source": []
  }
 ],
 "metadata": {
  "kernelspec": {
   "display_name": "Python 3 (ipykernel)",
   "language": "python",
   "name": "python3"
  },
  "language_info": {
   "codemirror_mode": {
    "name": "ipython",
    "version": 3
   },
   "file_extension": ".py",
   "mimetype": "text/x-python",
   "name": "python",
   "nbconvert_exporter": "python",
   "pygments_lexer": "ipython3",
   "version": "3.11.5"
  }
 },
 "nbformat": 4,
 "nbformat_minor": 5
}
