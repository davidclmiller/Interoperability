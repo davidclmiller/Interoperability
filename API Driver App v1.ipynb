{
 "cells": [
  {
   "cell_type": "markdown",
   "id": "28e910c8",
   "metadata": {},
   "source": [
    "# API Driver App\n",
    "## Pulls 3 Public API data sources\n",
    "## Modifies the C Temp to F Temp\n",
    "## Pushes the data to the Custom API App\n",
    "## Pulls the data from the Custom API App"
   ]
  },
  {
   "cell_type": "code",
   "execution_count": 2,
   "id": "f5ffff6e",
   "metadata": {},
   "outputs": [],
   "source": [
    "import pandas as pd\n",
    "import requests\n",
    "import json\n",
    "import geojson\n",
    "import geopandas\n",
    "import csv\n",
    "import objectpath"
   ]
  },
  {
   "cell_type": "code",
   "execution_count": 3,
   "id": "38818202",
   "metadata": {},
   "outputs": [],
   "source": [
    "# Weather API Data Retreival"
   ]
  },
  {
   "cell_type": "code",
   "execution_count": 4,
   "id": "3355d296",
   "metadata": {
    "scrolled": true
   },
   "outputs": [
    {
     "name": "stdout",
     "output_type": "stream",
     "text": [
      "{'@context': ['https://geojson.org/geojson-ld/geojson-context.jsonld', {'@version': '1.1', 'wx': 'https://api.weather.gov/ontology#', 's': 'https://schema.org/', 'geo': 'http://www.opengis.net/ont/geosparql#', 'unit': 'http://codes.wmo.int/common/unit/', '@vocab': 'https://api.weather.gov/ontology#', 'geometry': {'@id': 's:GeoCoordinates', '@type': 'geo:wktLiteral'}, 'city': 's:addressLocality', 'state': 's:addressRegion', 'distance': {'@id': 's:Distance', '@type': 's:QuantitativeValue'}, 'bearing': {'@type': 's:QuantitativeValue'}, 'value': {'@id': 's:value'}, 'unitCode': {'@id': 's:unitCode', '@type': '@id'}, 'forecastOffice': {'@type': '@id'}, 'forecastGridData': {'@type': '@id'}, 'publicZone': {'@type': '@id'}, 'county': {'@type': '@id'}}], 'id': 'https://api.weather.gov/stations/KCQT/observations/2024-04-10T16:47:00+00:00', 'type': 'Feature', 'geometry': {'type': 'Point', 'coordinates': [-118.28, 34.02]}, 'properties': {'@id': 'https://api.weather.gov/stations/KCQT/observations/2024-04-10T16:47:00+00:00', '@type': 'wx:ObservationStation', 'elevation': {'unitCode': 'wmoUnit:m', 'value': 56}, 'station': 'https://api.weather.gov/stations/KCQT', 'timestamp': '2024-04-10T16:47:00+00:00', 'rawMessage': 'KCQT 101647Z AUTO 13004KT 10SM CLR 23/03 A3008 RMK AO2 SLP182 T02280028 $', 'textDescription': 'Clear', 'icon': 'https://api.weather.gov/icons/land/day/skc?size=medium', 'presentWeather': [], 'temperature': {'unitCode': 'wmoUnit:degC', 'value': 22.8, 'qualityControl': 'V'}, 'dewpoint': {'unitCode': 'wmoUnit:degC', 'value': 2.8, 'qualityControl': 'V'}, 'windDirection': {'unitCode': 'wmoUnit:degree_(angle)', 'value': 130, 'qualityControl': 'V'}, 'windSpeed': {'unitCode': 'wmoUnit:km_h-1', 'value': 7.56, 'qualityControl': 'V'}, 'windGust': {'unitCode': 'wmoUnit:km_h-1', 'value': None, 'qualityControl': 'Z'}, 'barometricPressure': {'unitCode': 'wmoUnit:Pa', 'value': 101860, 'qualityControl': 'V'}, 'seaLevelPressure': {'unitCode': 'wmoUnit:Pa', 'value': 101820, 'qualityControl': 'V'}, 'visibility': {'unitCode': 'wmoUnit:m', 'value': 16090, 'qualityControl': 'C'}, 'maxTemperatureLast24Hours': {'unitCode': 'wmoUnit:degC', 'value': None}, 'minTemperatureLast24Hours': {'unitCode': 'wmoUnit:degC', 'value': None}, 'precipitationLastHour': {'unitCode': 'wmoUnit:mm', 'value': None, 'qualityControl': 'Z'}, 'precipitationLast3Hours': {'unitCode': 'wmoUnit:mm', 'value': None, 'qualityControl': 'Z'}, 'precipitationLast6Hours': {'unitCode': 'wmoUnit:mm', 'value': None, 'qualityControl': 'Z'}, 'relativeHumidity': {'unitCode': 'wmoUnit:percent', 'value': 26.958185272901, 'qualityControl': 'V'}, 'windChill': {'unitCode': 'wmoUnit:degC', 'value': None, 'qualityControl': 'V'}, 'heatIndex': {'unitCode': 'wmoUnit:degC', 'value': 21.83946372657, 'qualityControl': 'V'}, 'cloudLayers': [{'base': {'unitCode': 'wmoUnit:m', 'value': None}, 'amount': 'CLR'}]}}\n"
     ]
    }
   ],
   "source": [
    "def fetch_data_from_api(api_url):\n",
    "    try:\n",
    "        response = requests.get(api_url)\n",
    "        response.raise_for_status() # Raise an exception for 4xx or 5xx status codes\n",
    "        data = response.json()\n",
    "        return data\n",
    "    except requests.exceptions.RequestException as e:\n",
    "        print(f\"Error fetching data from API: {e}\")\n",
    "        return None\n",
    "api_url = \"https://api.weather.gov/stations/KCQT/observations/latest?require_qc=false\"\n",
    "data = fetch_data_from_api(api_url)\n",
    "if data:\n",
    "    print(data) # show data collected\n",
    "else:\n",
    "    print(\"Failed to fetch data from API.\")"
   ]
  },
  {
   "cell_type": "code",
   "execution_count": 5,
   "id": "efe1e78d",
   "metadata": {
    "scrolled": true
   },
   "outputs": [
    {
     "data": {
      "text/plain": [
       "dict"
      ]
     },
     "execution_count": 5,
     "metadata": {},
     "output_type": "execute_result"
    }
   ],
   "source": [
    "type(data)"
   ]
  },
  {
   "cell_type": "code",
   "execution_count": null,
   "id": "a7db7724",
   "metadata": {},
   "outputs": [],
   "source": [
    "# Converting data from GeoJSON to GeoDataFrame"
   ]
  },
  {
   "cell_type": "code",
   "execution_count": 6,
   "id": "ea2e62e2",
   "metadata": {
    "scrolled": true
   },
   "outputs": [],
   "source": [
    "gdf = geopandas.GeoDataFrame.from_features([data])\n",
    "csv_filename = 'weather.csv'\n",
    "gdf.to_csv(csv_filename, index=False)"
   ]
  },
  {
   "cell_type": "code",
   "execution_count": 7,
   "id": "20879353",
   "metadata": {
    "scrolled": true
   },
   "outputs": [
    {
     "name": "stdout",
     "output_type": "stream",
     "text": [
      "{'type': 'FeatureCollection', 'features': [{'id': '0', 'type': 'Feature', 'properties': {'@id': 'https://api.weather.gov/stations/KCQT/observations/2024-04-10T16:47:00+00:00', '@type': 'wx:ObservationStation', 'elevation': {'unitCode': 'wmoUnit:m', 'value': 56}, 'station': 'https://api.weather.gov/stations/KCQT', 'timestamp': '2024-04-10T16:47:00+00:00', 'rawMessage': 'KCQT 101647Z AUTO 13004KT 10SM CLR 23/03 A3008 RMK AO2 SLP182 T02280028 $', 'textDescription': 'Clear', 'icon': 'https://api.weather.gov/icons/land/day/skc?size=medium', 'presentWeather': [], 'temperature': {'unitCode': 'wmoUnit:degC', 'value': 22.8, 'qualityControl': 'V'}, 'dewpoint': {'unitCode': 'wmoUnit:degC', 'value': 2.8, 'qualityControl': 'V'}, 'windDirection': {'unitCode': 'wmoUnit:degree_(angle)', 'value': 130, 'qualityControl': 'V'}, 'windSpeed': {'unitCode': 'wmoUnit:km_h-1', 'value': 7.56, 'qualityControl': 'V'}, 'windGust': {'unitCode': 'wmoUnit:km_h-1', 'value': None, 'qualityControl': 'Z'}, 'barometricPressure': {'unitCode': 'wmoUnit:Pa', 'value': 101860, 'qualityControl': 'V'}, 'seaLevelPressure': {'unitCode': 'wmoUnit:Pa', 'value': 101820, 'qualityControl': 'V'}, 'visibility': {'unitCode': 'wmoUnit:m', 'value': 16090, 'qualityControl': 'C'}, 'maxTemperatureLast24Hours': {'unitCode': 'wmoUnit:degC', 'value': None}, 'minTemperatureLast24Hours': {'unitCode': 'wmoUnit:degC', 'value': None}, 'precipitationLastHour': {'unitCode': 'wmoUnit:mm', 'value': None, 'qualityControl': 'Z'}, 'precipitationLast3Hours': {'unitCode': 'wmoUnit:mm', 'value': None, 'qualityControl': 'Z'}, 'precipitationLast6Hours': {'unitCode': 'wmoUnit:mm', 'value': None, 'qualityControl': 'Z'}, 'relativeHumidity': {'unitCode': 'wmoUnit:percent', 'value': 26.958185272901, 'qualityControl': 'V'}, 'windChill': {'unitCode': 'wmoUnit:degC', 'value': None, 'qualityControl': 'V'}, 'heatIndex': {'unitCode': 'wmoUnit:degC', 'value': 21.83946372657, 'qualityControl': 'V'}, 'cloudLayers': [{'base': {'unitCode': 'wmoUnit:m', 'value': None}, 'amount': 'CLR'}]}, 'geometry': {'type': 'Point', 'coordinates': (-118.28, 34.02)}, 'bbox': (-118.28, 34.02, -118.28, 34.02)}], 'bbox': (-118.28, 34.02, -118.28, 34.02)}\n"
     ]
    }
   ],
   "source": [
    "gdf = gdf.__geo_interface__\n",
    "print(gdf)"
   ]
  },
  {
   "cell_type": "code",
   "execution_count": 8,
   "id": "a106abc6",
   "metadata": {},
   "outputs": [
    {
     "name": "stdout",
     "output_type": "stream",
     "text": [
      "dict_keys(['type', 'features', 'bbox'])\n"
     ]
    }
   ],
   "source": [
    "keys = gdf.keys()\n",
    "print(keys)"
   ]
  },
  {
   "cell_type": "code",
   "execution_count": 9,
   "id": "0ed2b28c",
   "metadata": {
    "scrolled": true
   },
   "outputs": [
    {
     "name": "stdout",
     "output_type": "stream",
     "text": [
      "dict_items([('type', 'FeatureCollection'), ('features', [{'id': '0', 'type': 'Feature', 'properties': {'@id': 'https://api.weather.gov/stations/KCQT/observations/2024-04-10T16:47:00+00:00', '@type': 'wx:ObservationStation', 'elevation': {'unitCode': 'wmoUnit:m', 'value': 56}, 'station': 'https://api.weather.gov/stations/KCQT', 'timestamp': '2024-04-10T16:47:00+00:00', 'rawMessage': 'KCQT 101647Z AUTO 13004KT 10SM CLR 23/03 A3008 RMK AO2 SLP182 T02280028 $', 'textDescription': 'Clear', 'icon': 'https://api.weather.gov/icons/land/day/skc?size=medium', 'presentWeather': [], 'temperature': {'unitCode': 'wmoUnit:degC', 'value': 22.8, 'qualityControl': 'V'}, 'dewpoint': {'unitCode': 'wmoUnit:degC', 'value': 2.8, 'qualityControl': 'V'}, 'windDirection': {'unitCode': 'wmoUnit:degree_(angle)', 'value': 130, 'qualityControl': 'V'}, 'windSpeed': {'unitCode': 'wmoUnit:km_h-1', 'value': 7.56, 'qualityControl': 'V'}, 'windGust': {'unitCode': 'wmoUnit:km_h-1', 'value': None, 'qualityControl': 'Z'}, 'barometricPressure': {'unitCode': 'wmoUnit:Pa', 'value': 101860, 'qualityControl': 'V'}, 'seaLevelPressure': {'unitCode': 'wmoUnit:Pa', 'value': 101820, 'qualityControl': 'V'}, 'visibility': {'unitCode': 'wmoUnit:m', 'value': 16090, 'qualityControl': 'C'}, 'maxTemperatureLast24Hours': {'unitCode': 'wmoUnit:degC', 'value': None}, 'minTemperatureLast24Hours': {'unitCode': 'wmoUnit:degC', 'value': None}, 'precipitationLastHour': {'unitCode': 'wmoUnit:mm', 'value': None, 'qualityControl': 'Z'}, 'precipitationLast3Hours': {'unitCode': 'wmoUnit:mm', 'value': None, 'qualityControl': 'Z'}, 'precipitationLast6Hours': {'unitCode': 'wmoUnit:mm', 'value': None, 'qualityControl': 'Z'}, 'relativeHumidity': {'unitCode': 'wmoUnit:percent', 'value': 26.958185272901, 'qualityControl': 'V'}, 'windChill': {'unitCode': 'wmoUnit:degC', 'value': None, 'qualityControl': 'V'}, 'heatIndex': {'unitCode': 'wmoUnit:degC', 'value': 21.83946372657, 'qualityControl': 'V'}, 'cloudLayers': [{'base': {'unitCode': 'wmoUnit:m', 'value': None}, 'amount': 'CLR'}]}, 'geometry': {'type': 'Point', 'coordinates': (-118.28, 34.02)}, 'bbox': (-118.28, 34.02, -118.28, 34.02)}]), ('bbox', (-118.28, 34.02, -118.28, 34.02))])\n"
     ]
    }
   ],
   "source": [
    "items = gdf.items()\n",
    "print(items)"
   ]
  },
  {
   "cell_type": "code",
   "execution_count": 10,
   "id": "6cb76aef",
   "metadata": {
    "scrolled": true
   },
   "outputs": [
    {
     "name": "stdout",
     "output_type": "stream",
     "text": [
      "['FeatureCollection', [{'id': '0', 'type': 'Feature', 'properties': {'@id': 'https://api.weather.gov/stations/KCQT/observations/2024-04-10T16:47:00+00:00', '@type': 'wx:ObservationStation', 'elevation': {'unitCode': 'wmoUnit:m', 'value': 56}, 'station': 'https://api.weather.gov/stations/KCQT', 'timestamp': '2024-04-10T16:47:00+00:00', 'rawMessage': 'KCQT 101647Z AUTO 13004KT 10SM CLR 23/03 A3008 RMK AO2 SLP182 T02280028 $', 'textDescription': 'Clear', 'icon': 'https://api.weather.gov/icons/land/day/skc?size=medium', 'presentWeather': [], 'temperature': {'unitCode': 'wmoUnit:degC', 'value': 22.8, 'qualityControl': 'V'}, 'dewpoint': {'unitCode': 'wmoUnit:degC', 'value': 2.8, 'qualityControl': 'V'}, 'windDirection': {'unitCode': 'wmoUnit:degree_(angle)', 'value': 130, 'qualityControl': 'V'}, 'windSpeed': {'unitCode': 'wmoUnit:km_h-1', 'value': 7.56, 'qualityControl': 'V'}, 'windGust': {'unitCode': 'wmoUnit:km_h-1', 'value': None, 'qualityControl': 'Z'}, 'barometricPressure': {'unitCode': 'wmoUnit:Pa', 'value': 101860, 'qualityControl': 'V'}, 'seaLevelPressure': {'unitCode': 'wmoUnit:Pa', 'value': 101820, 'qualityControl': 'V'}, 'visibility': {'unitCode': 'wmoUnit:m', 'value': 16090, 'qualityControl': 'C'}, 'maxTemperatureLast24Hours': {'unitCode': 'wmoUnit:degC', 'value': None}, 'minTemperatureLast24Hours': {'unitCode': 'wmoUnit:degC', 'value': None}, 'precipitationLastHour': {'unitCode': 'wmoUnit:mm', 'value': None, 'qualityControl': 'Z'}, 'precipitationLast3Hours': {'unitCode': 'wmoUnit:mm', 'value': None, 'qualityControl': 'Z'}, 'precipitationLast6Hours': {'unitCode': 'wmoUnit:mm', 'value': None, 'qualityControl': 'Z'}, 'relativeHumidity': {'unitCode': 'wmoUnit:percent', 'value': 26.958185272901, 'qualityControl': 'V'}, 'windChill': {'unitCode': 'wmoUnit:degC', 'value': None, 'qualityControl': 'V'}, 'heatIndex': {'unitCode': 'wmoUnit:degC', 'value': 21.83946372657, 'qualityControl': 'V'}, 'cloudLayers': [{'base': {'unitCode': 'wmoUnit:m', 'value': None}, 'amount': 'CLR'}]}, 'geometry': {'type': 'Point', 'coordinates': (-118.28, 34.02)}, 'bbox': (-118.28, 34.02, -118.28, 34.02)}], (-118.28, 34.02, -118.28, 34.02)]\n"
     ]
    }
   ],
   "source": [
    "values_list = list(gdf.values())\n",
    "print(values_list)"
   ]
  },
  {
   "cell_type": "code",
   "execution_count": 11,
   "id": "a52deec7",
   "metadata": {
    "scrolled": true
   },
   "outputs": [
    {
     "data": {
      "text/plain": [
       "list"
      ]
     },
     "execution_count": 11,
     "metadata": {},
     "output_type": "execute_result"
    }
   ],
   "source": [
    "type(values_list)"
   ]
  },
  {
   "cell_type": "code",
   "execution_count": 14,
   "id": "2526230b",
   "metadata": {},
   "outputs": [],
   "source": [
    "# Current Conditions STRING Value (CurrentConditionValue)"
   ]
  },
  {
   "cell_type": "code",
   "execution_count": 15,
   "id": "ed121a68",
   "metadata": {
    "scrolled": false
   },
   "outputs": [
    {
     "name": "stdout",
     "output_type": "stream",
     "text": [
      "Clear\n"
     ]
    },
    {
     "data": {
      "text/plain": [
       "str"
      ]
     },
     "execution_count": 15,
     "metadata": {},
     "output_type": "execute_result"
    }
   ],
   "source": [
    "tree_obj = objectpath.Tree(values_list)\n",
    "CurrentCondition = tuple(tree_obj.execute('$..textDescription'))\n",
    "CurrentConditionValue = CurrentCondition[0]\n",
    "print(CurrentConditionValue)\n",
    "type(CurrentConditionValue)"
   ]
  },
  {
   "cell_type": "code",
   "execution_count": null,
   "id": "e2947d1b",
   "metadata": {},
   "outputs": [],
   "source": [
    "# Current Temperature FLOAT Value (TempC)"
   ]
  },
  {
   "cell_type": "code",
   "execution_count": 13,
   "id": "d5602734",
   "metadata": {},
   "outputs": [
    {
     "name": "stdout",
     "output_type": "stream",
     "text": [
      "22.8\n"
     ]
    },
    {
     "data": {
      "text/plain": [
       "float"
      ]
     },
     "execution_count": 13,
     "metadata": {},
     "output_type": "execute_result"
    }
   ],
   "source": [
    "tree_obj = objectpath.Tree(values_list)\n",
    "temp_obj = tuple(tree_obj.execute('$..temperature'))\n",
    "temp_value = str(temp_obj)\n",
    "tempC = temp_value[39:]\n",
    "tempC = tempC[:4]\n",
    "tempC = float(tempC)\n",
    "print(tempC)\n",
    "type(tempC)"
   ]
  },
  {
   "cell_type": "code",
   "execution_count": null,
   "id": "07b24039",
   "metadata": {},
   "outputs": [],
   "source": [
    "# Converting Temperature FLOAT Value to (TempF)"
   ]
  },
  {
   "cell_type": "code",
   "execution_count": 27,
   "id": "661bdf85",
   "metadata": {},
   "outputs": [
    {
     "name": "stdout",
     "output_type": "stream",
     "text": [
      "73.0\n"
     ]
    }
   ],
   "source": [
    "tempF = round((tempC * (9/5)) + 32, 1)\n",
    "print(tempF)"
   ]
  },
  {
   "cell_type": "markdown",
   "id": "6f7197b7",
   "metadata": {},
   "source": [
    "#"
   ]
  },
  {
   "cell_type": "code",
   "execution_count": null,
   "id": "f88d3a98",
   "metadata": {},
   "outputs": [],
   "source": [
    "# Currency API Data Retreival to get EUR exchange Rate"
   ]
  },
  {
   "cell_type": "code",
   "execution_count": 28,
   "id": "3dd1f324",
   "metadata": {},
   "outputs": [
    {
     "name": "stdout",
     "output_type": "stream",
     "text": [
      "{'result': 'success', 'provider': 'https://www.exchangerate-api.com', 'documentation': 'https://www.exchangerate-api.com/docs/free', 'terms_of_use': 'https://www.exchangerate-api.com/terms', 'time_last_update_unix': 1712707351, 'time_last_update_utc': 'Wed, 10 Apr 2024 00:02:31 +0000', 'time_next_update_unix': 1712795261, 'time_next_update_utc': 'Thu, 11 Apr 2024 00:27:41 +0000', 'time_eol_unix': 0, 'base_code': 'USD', 'rates': {'USD': 1, 'AED': 3.6725, 'AFN': 71.192783, 'ALL': 94.123409, 'AMD': 388.492711, 'ANG': 1.79, 'AOA': 844.357841, 'ARS': 864.75, 'AUD': 1.509645, 'AWG': 1.79, 'AZN': 1.700476, 'BAM': 1.801248, 'BBD': 2, 'BDT': 109.724229, 'BGN': 1.80109, 'BHD': 0.376, 'BIF': 2855.489961, 'BMD': 1, 'BND': 1.345563, 'BOB': 6.912375, 'BRL': 5.017417, 'BSD': 1, 'BTN': 83.239572, 'BWP': 13.629631, 'BYN': 3.265373, 'BZD': 2, 'CAD': 1.357512, 'CDF': 2733.267844, 'CHF': 0.903379, 'CLP': 945.267747, 'CNY': 7.237159, 'COP': 3758.898475, 'CRC': 504.470892, 'CUP': 24, 'CVE': 101.550031, 'CZK': 23.371674, 'DJF': 177.721, 'DKK': 6.870305, 'DOP': 59.054552, 'DZD': 134.424785, 'EGP': 47.555486, 'ERN': 15, 'ETB': 56.785997, 'EUR': 0.920961, 'FJD': 2.236173, 'FKP': 0.788944, 'FOK': 6.870367, 'GBP': 0.788939, 'GEL': 2.674364, 'GGP': 0.788944, 'GHS': 13.52086, 'GIP': 0.788944, 'GMD': 64.172825, 'GNF': 8580.527792, 'GTQ': 7.780679, 'GYD': 209.168936, 'HKD': 7.830955, 'HNL': 24.656151, 'HRK': 6.938999, 'HTG': 132.538997, 'HUF': 358.726331, 'IDR': 15842.835033, 'ILS': 3.697921, 'IMP': 0.788944, 'INR': 83.239596, 'IQD': 1312.968927, 'IRR': 41921.905802, 'ISK': 138.344737, 'JEP': 0.788944, 'JMD': 154.749847, 'JOD': 0.709, 'JPY': 151.750638, 'KES': 129.879741, 'KGS': 89.362744, 'KHR': 4042.831346, 'KID': 1.509658, 'KMF': 453.084298, 'KRW': 1351.967107, 'KWD': 0.307513, 'KYD': 0.833333, 'KZT': 446.681928, 'LAK': 20965.802719, 'LBP': 89500, 'LKR': 298.450099, 'LRD': 193.716341, 'LSL': 18.464839, 'LYD': 4.835918, 'MAD': 10.030523, 'MDL': 17.662879, 'MGA': 4341.825325, 'MKD': 56.824346, 'MMK': 2099.631318, 'MNT': 3385.860814, 'MOP': 8.065883, 'MRU': 39.710074, 'MUR': 45.847255, 'MVR': 15.409519, 'MWK': 1747.032043, 'MXN': 16.366694, 'MYR': 4.750822, 'MZN': 63.88968, 'NAD': 18.464839, 'NGN': 1236.887348, 'NIO': 36.751105, 'NOK': 10.673895, 'NPR': 133.183315, 'NZD': 1.649831, 'OMR': 0.384497, 'PAB': 1, 'PEN': 3.690766, 'PGK': 3.787119, 'PHP': 56.424778, 'PKR': 277.930551, 'PLN': 3.924355, 'PYG': 7341.066475, 'QAR': 3.64, 'RON': 4.574452, 'RSD': 107.924069, 'RUB': 92.740911, 'RWF': 1303.346516, 'SAR': 3.75, 'SBD': 8.514195, 'SCR': 13.514676, 'SDG': 452.288219, 'SEK': 10.554878, 'SGD': 1.345564, 'SHP': 0.788944, 'SLE': 23.214261, 'SLL': 23214.260912, 'SOS': 571.124715, 'SRD': 35.067374, 'SSP': 1560.054022, 'STN': 22.563604, 'SYP': 12936.078773, 'SZL': 18.464839, 'THB': 36.351505, 'TJS': 10.946887, 'TMT': 3.499975, 'TND': 3.116574, 'TOP': 2.338122, 'TRY': 32.235683, 'TTD': 6.761606, 'TVD': 1.509658, 'TWD': 32.023437, 'TZS': 2554.957258, 'UAH': 38.986921, 'UGX': 3806.881797, 'UYU': 38.182557, 'UZS': 12598.194674, 'VES': 36.2251, 'VND': 24960.258814, 'VUV': 119.798342, 'WST': 2.754353, 'XAF': 604.112397, 'XCD': 2.7, 'XDR': 0.752913, 'XOF': 604.112397, 'XPF': 109.900406, 'YER': 250.280612, 'ZAR': 18.464865, 'ZMW': 24.760567, 'ZWL': 13.5348}}\n"
     ]
    }
   ],
   "source": [
    "def fetch_data_from_api(api_url):\n",
    "    try:\n",
    "        response = requests.get(api_url)\n",
    "        response.raise_for_status() # Raise an exception for 4xx or 5xx status codes\n",
    "        data = response.json()\n",
    "        return data\n",
    "    except requests.exceptions.RequestException as e:\n",
    "        print(f\"Error fetching data from API: {e}\")\n",
    "        return None\n",
    "api_url = \"https://open.er-api.com/v6/latest/USD\"\n",
    "data = fetch_data_from_api(api_url)\n",
    "if data:\n",
    "    print(data) # or do whatever you want with the data\n",
    "else:\n",
    "    print(\"Failed to fetch data from API.\")"
   ]
  },
  {
   "cell_type": "code",
   "execution_count": 29,
   "id": "3e18ce3b",
   "metadata": {},
   "outputs": [
    {
     "data": {
      "text/plain": [
       "dict"
      ]
     },
     "execution_count": 29,
     "metadata": {},
     "output_type": "execute_result"
    }
   ],
   "source": [
    "type(data)"
   ]
  },
  {
   "cell_type": "code",
   "execution_count": null,
   "id": "edf25f85",
   "metadata": {},
   "outputs": [],
   "source": [
    "# Extracting current Eur rates per USD and converting $1000 EUR to USD"
   ]
  },
  {
   "cell_type": "code",
   "execution_count": 36,
   "id": "5b6d0a22",
   "metadata": {},
   "outputs": [
    {
     "name": "stdout",
     "output_type": "stream",
     "text": [
      "0.920961\n",
      "1000\n",
      "920.96\n"
     ]
    }
   ],
   "source": [
    "rates_data = {}\n",
    "EUR = 1000\n",
    "USD = 0\n",
    "\n",
    "for k in data.keys():\n",
    "    if 'rates' in k:\n",
    "        rates_data[k] = data[k]\n",
    "\n",
    "EUREXCH = rates_data['rates']['EUR']\n",
    "\n",
    "print(EUREXCH)\n",
    "print(EUR)\n",
    "USD = round(EUR * EUREXCH, 2)\n",
    "print(USD)\n"
   ]
  },
  {
   "cell_type": "markdown",
   "id": "52a8be1b",
   "metadata": {},
   "source": [
    "#"
   ]
  },
  {
   "cell_type": "code",
   "execution_count": null,
   "id": "36aaa673",
   "metadata": {},
   "outputs": [],
   "source": []
  }
 ],
 "metadata": {
  "kernelspec": {
   "display_name": "Python 3 (ipykernel)",
   "language": "python",
   "name": "python3"
  },
  "language_info": {
   "codemirror_mode": {
    "name": "ipython",
    "version": 3
   },
   "file_extension": ".py",
   "mimetype": "text/x-python",
   "name": "python",
   "nbconvert_exporter": "python",
   "pygments_lexer": "ipython3",
   "version": "3.11.5"
  }
 },
 "nbformat": 4,
 "nbformat_minor": 5
}
