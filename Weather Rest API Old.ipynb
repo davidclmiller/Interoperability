{
 "cells": [
  {
   "cell_type": "markdown",
   "id": "28e910c8",
   "metadata": {},
   "source": [
    "# Weather API"
   ]
  },
  {
   "cell_type": "code",
   "execution_count": 1,
   "id": "f5ffff6e",
   "metadata": {},
   "outputs": [],
   "source": [
    "import pandas as pd\n",
    "import requests\n",
    "import json\n",
    "import csv"
   ]
  },
  {
   "cell_type": "code",
   "execution_count": 2,
   "id": "3355d296",
   "metadata": {},
   "outputs": [
    {
     "name": "stdout",
     "output_type": "stream",
     "text": [
      "{'@context': ['https://geojson.org/geojson-ld/geojson-context.jsonld', {'@version': '1.1', 'wx': 'https://api.weather.gov/ontology#', 's': 'https://schema.org/', 'geo': 'http://www.opengis.net/ont/geosparql#', 'unit': 'http://codes.wmo.int/common/unit/', '@vocab': 'https://api.weather.gov/ontology#', 'geometry': {'@id': 's:GeoCoordinates', '@type': 'geo:wktLiteral'}, 'city': 's:addressLocality', 'state': 's:addressRegion', 'distance': {'@id': 's:Distance', '@type': 's:QuantitativeValue'}, 'bearing': {'@type': 's:QuantitativeValue'}, 'value': {'@id': 's:value'}, 'unitCode': {'@id': 's:unitCode', '@type': '@id'}, 'forecastOffice': {'@type': '@id'}, 'forecastGridData': {'@type': '@id'}, 'publicZone': {'@type': '@id'}, 'county': {'@type': '@id'}}], 'id': 'https://api.weather.gov/stations/KCQT/observations/2024-04-01T20:47:00+00:00', 'type': 'Feature', 'geometry': {'type': 'Point', 'coordinates': [-118.28, 34.02]}, 'properties': {'@id': 'https://api.weather.gov/stations/KCQT/observations/2024-04-01T20:47:00+00:00', '@type': 'wx:ObservationStation', 'elevation': {'unitCode': 'wmoUnit:m', 'value': 56}, 'station': 'https://api.weather.gov/stations/KCQT', 'timestamp': '2024-04-01T20:47:00+00:00', 'rawMessage': 'KCQT 012047Z AUTO 00000KT 10SM CLR 19/08 A3001 RMK AO2 SLP160 T01940083 53005 $', 'textDescription': 'Clear', 'icon': 'https://api.weather.gov/icons/land/day/skc?size=medium', 'presentWeather': [], 'temperature': {'unitCode': 'wmoUnit:degC', 'value': 19.4, 'qualityControl': 'V'}, 'dewpoint': {'unitCode': 'wmoUnit:degC', 'value': 8.3, 'qualityControl': 'V'}, 'windDirection': {'unitCode': 'wmoUnit:degree_(angle)', 'value': 0, 'qualityControl': 'V'}, 'windSpeed': {'unitCode': 'wmoUnit:km_h-1', 'value': 0, 'qualityControl': 'V'}, 'windGust': {'unitCode': 'wmoUnit:km_h-1', 'value': None, 'qualityControl': 'Z'}, 'barometricPressure': {'unitCode': 'wmoUnit:Pa', 'value': 101630, 'qualityControl': 'V'}, 'seaLevelPressure': {'unitCode': 'wmoUnit:Pa', 'value': 101600, 'qualityControl': 'V'}, 'visibility': {'unitCode': 'wmoUnit:m', 'value': 16090, 'qualityControl': 'C'}, 'maxTemperatureLast24Hours': {'unitCode': 'wmoUnit:degC', 'value': None}, 'minTemperatureLast24Hours': {'unitCode': 'wmoUnit:degC', 'value': None}, 'precipitationLastHour': {'unitCode': 'wmoUnit:mm', 'value': None, 'qualityControl': 'Z'}, 'precipitationLast3Hours': {'unitCode': 'wmoUnit:mm', 'value': None, 'qualityControl': 'Z'}, 'precipitationLast6Hours': {'unitCode': 'wmoUnit:mm', 'value': None, 'qualityControl': 'Z'}, 'relativeHumidity': {'unitCode': 'wmoUnit:percent', 'value': 48.634408597762, 'qualityControl': 'V'}, 'windChill': {'unitCode': 'wmoUnit:degC', 'value': None, 'qualityControl': 'V'}, 'heatIndex': {'unitCode': 'wmoUnit:degC', 'value': None, 'qualityControl': 'V'}, 'cloudLayers': [{'base': {'unitCode': 'wmoUnit:m', 'value': None}, 'amount': 'CLR'}]}}\n"
     ]
    }
   ],
   "source": [
    "def fetch_data_from_api(api_url):\n",
    "    try:\n",
    "        response = requests.get(api_url)\n",
    "        response.raise_for_status() # Raise an exception for 4xx or 5xx status codes\n",
    "        data = response.json()\n",
    "        return data\n",
    "    except requests.exceptions.RequestException as e:\n",
    "        print(f\"Error fetching data from API: {e}\")\n",
    "        return None\n",
    "api_url = \"https://api.weather.gov/stations/KCQT/observations/latest?require_qc=false\"\n",
    "data = fetch_data_from_api(api_url)\n",
    "if data:\n",
    "    print(data) # show data collected\n",
    "else:\n",
    "    print(\"Failed to fetch data from API.\")"
   ]
  },
  {
   "cell_type": "code",
   "execution_count": 53,
   "id": "efe1e78d",
   "metadata": {
    "scrolled": true
   },
   "outputs": [
    {
     "data": {
      "text/plain": [
       "dict"
      ]
     },
     "execution_count": 53,
     "metadata": {},
     "output_type": "execute_result"
    }
   ],
   "source": [
    "type(data)"
   ]
  },
  {
   "cell_type": "code",
   "execution_count": 84,
   "id": "8dee7201",
   "metadata": {},
   "outputs": [
    {
     "ename": "NameError",
     "evalue": "name 'csv' is not defined",
     "output_type": "error",
     "traceback": [
      "\u001b[1;31m---------------------------------------------------------------------------\u001b[0m",
      "\u001b[1;31mNameError\u001b[0m                                 Traceback (most recent call last)",
      "Cell \u001b[1;32mIn[84], line 3\u001b[0m\n\u001b[0;32m      1\u001b[0m \u001b[38;5;28;01mwith\u001b[39;00m \u001b[38;5;28mopen\u001b[39m(\u001b[38;5;124m'\u001b[39m\u001b[38;5;124mcustomers.csv\u001b[39m\u001b[38;5;124m'\u001b[39m, \u001b[38;5;124m'\u001b[39m\u001b[38;5;124mw\u001b[39m\u001b[38;5;124m'\u001b[39m, encoding\u001b[38;5;241m=\u001b[39m\u001b[38;5;124m'\u001b[39m\u001b[38;5;124mUTF8\u001b[39m\u001b[38;5;124m'\u001b[39m, newline\u001b[38;5;241m=\u001b[39m\u001b[38;5;124m'\u001b[39m\u001b[38;5;124m'\u001b[39m) \u001b[38;5;28;01mas\u001b[39;00m f:\n\u001b[0;32m      2\u001b[0m     \u001b[38;5;66;03m# Create a writer object\u001b[39;00m\n\u001b[1;32m----> 3\u001b[0m     writer \u001b[38;5;241m=\u001b[39m csv\u001b[38;5;241m.\u001b[39mDictWriter(f, fieldnames\u001b[38;5;241m=\u001b[39mfieldnames)\n\u001b[0;32m      4\u001b[0m     \u001b[38;5;66;03m# Write header\u001b[39;00m\n\u001b[0;32m      5\u001b[0m     writer\u001b[38;5;241m.\u001b[39mwriteheader()\n",
      "\u001b[1;31mNameError\u001b[0m: name 'csv' is not defined"
     ]
    }
   ],
   "source": [
    "with open('customers.csv', 'w', encoding='UTF8', newline='') as f:\n",
    "    # Create a writer object\n",
    "    writer = csv.DictWriter(f, fieldnames=fieldnames)\n",
    "    # Write header\n",
    "    writer.writeheader()\n",
    "    # Write data from dictionary\n",
    "    writer.writerows(rows)"
   ]
  },
  {
   "cell_type": "code",
   "execution_count": 83,
   "id": "9d6a3793",
   "metadata": {
    "scrolled": true
   },
   "outputs": [
    {
     "ename": "TypeError",
     "evalue": "{'@context': ['https://geojson.org/geojson-ld/geojson-context.jsonld', {'@version': '1.1', 'wx': 'https://api.weather.gov/ontology#', 's': 'https://schema.org/', 'geo': 'http://www.opengis.net/ont/geosparql#', 'unit': 'http://codes.wmo.int/common/unit/', '@vocab': 'https://api.weather.gov/ontology#', 'geometry': {'@id': 's:GeoCoordinates', '@type': 'geo:wktLiteral'}, 'city': 's:addressLocality', 'state': 's:addressRegion', 'distance': {'@id': 's:Distance', '@type': 's:QuantitativeValue'}, 'bearing': {'@type': 's:QuantitativeValue'}, 'value': {'@id': 's:value'}, 'unitCode': {'@id': 's:unitCode', '@type': '@id'}, 'forecastOffice': {'@type': '@id'}, 'forecastGridData': {'@type': '@id'}, 'publicZone': {'@type': '@id'}, 'county': {'@type': '@id'}}], 'id': 'https://api.weather.gov/stations/KCQT/observations/2024-03-31T23:47:00+00:00', 'type': 'Feature', 'geometry': {'type': 'Point', 'coordinates': [-118.28, 34.02]}, 'properties': {'@id': 'https://api.weather.gov/stations/KCQT/observations/2024-03-31T23:47:00+00:00', '@type': 'wx:ObservationStation', 'elevation': {'unitCode': 'wmoUnit:m', 'value': 56}, 'station': 'https://api.weather.gov/stations/KCQT', 'timestamp': '2024-03-31T23:47:00+00:00', 'rawMessage': 'KCQT 312347Z AUTO 13007KT 090V150 10SM FEW040 SCT060 17/06 A2977 RMK AO2 SLP081 T01670061 10178 20150 55003', 'textDescription': 'Partly Cloudy', 'icon': 'https://api.weather.gov/icons/land/day/sct?size=medium', 'presentWeather': [], 'temperature': {'unitCode': 'wmoUnit:degC', 'value': 16.7, 'qualityControl': 'V'}, 'dewpoint': {'unitCode': 'wmoUnit:degC', 'value': 6.1, 'qualityControl': 'V'}, 'windDirection': {'unitCode': 'wmoUnit:degree_(angle)', 'value': 130, 'qualityControl': 'V'}, 'windSpeed': {'unitCode': 'wmoUnit:km_h-1', 'value': 12.96, 'qualityControl': 'V'}, 'windGust': {'unitCode': 'wmoUnit:km_h-1', 'value': None, 'qualityControl': 'Z'}, 'barometricPressure': {'unitCode': 'wmoUnit:Pa', 'value': 100810, 'qualityControl': 'V'}, 'seaLevelPressure': {'unitCode': 'wmoUnit:Pa', 'value': 100810, 'qualityControl': 'V'}, 'visibility': {'unitCode': 'wmoUnit:m', 'value': 16090, 'qualityControl': 'C'}, 'maxTemperatureLast24Hours': {'unitCode': 'wmoUnit:degC', 'value': None}, 'minTemperatureLast24Hours': {'unitCode': 'wmoUnit:degC', 'value': None}, 'precipitationLastHour': {'unitCode': 'wmoUnit:mm', 'value': None, 'qualityControl': 'Z'}, 'precipitationLast3Hours': {'unitCode': 'wmoUnit:mm', 'value': None, 'qualityControl': 'Z'}, 'precipitationLast6Hours': {'unitCode': 'wmoUnit:mm', 'value': None, 'qualityControl': 'Z'}, 'relativeHumidity': {'unitCode': 'wmoUnit:percent', 'value': 49.575866677137, 'qualityControl': 'V'}, 'windChill': {'unitCode': 'wmoUnit:degC', 'value': None, 'qualityControl': 'V'}, 'heatIndex': {'unitCode': 'wmoUnit:degC', 'value': None, 'qualityControl': 'V'}, 'cloudLayers': [{'base': {'unitCode': 'wmoUnit:m', 'value': 1220}, 'amount': 'FEW'}, {'base': {'unitCode': 'wmoUnit:m', 'value': 1830}, 'amount': 'SCT'}]}} has non list value https://api.weather.gov/stations/KCQT/observations/2024-03-31T23:47:00+00:00 for path id. Must be list or null.",
     "output_type": "error",
     "traceback": [
      "\u001b[1;31m---------------------------------------------------------------------------\u001b[0m",
      "\u001b[1;31mTypeError\u001b[0m                                 Traceback (most recent call last)",
      "Cell \u001b[1;32mIn[83], line 1\u001b[0m\n\u001b[1;32m----> 1\u001b[0m df \u001b[38;5;241m=\u001b[39m pd\u001b[38;5;241m.\u001b[39mjson_normalize(data, record_path\u001b[38;5;241m=\u001b[39m\u001b[38;5;124m'\u001b[39m\u001b[38;5;124mid\u001b[39m\u001b[38;5;124m'\u001b[39m)\n\u001b[0;32m      2\u001b[0m \u001b[38;5;28mtype\u001b[39m(df)\n",
      "File \u001b[1;32m~\\AppData\\Local\\anaconda3\\Lib\\site-packages\\pandas\\io\\json\\_normalize.py:519\u001b[0m, in \u001b[0;36mjson_normalize\u001b[1;34m(data, record_path, meta, meta_prefix, record_prefix, errors, sep, max_level)\u001b[0m\n\u001b[0;32m    516\u001b[0m                 meta_vals[key]\u001b[38;5;241m.\u001b[39mappend(meta_val)\n\u001b[0;32m    517\u001b[0m             records\u001b[38;5;241m.\u001b[39mextend(recs)\n\u001b[1;32m--> 519\u001b[0m _recursive_extract(data, record_path, {}, level\u001b[38;5;241m=\u001b[39m\u001b[38;5;241m0\u001b[39m)\n\u001b[0;32m    521\u001b[0m result \u001b[38;5;241m=\u001b[39m DataFrame(records)\n\u001b[0;32m    523\u001b[0m \u001b[38;5;28;01mif\u001b[39;00m record_prefix \u001b[38;5;129;01mis\u001b[39;00m \u001b[38;5;129;01mnot\u001b[39;00m \u001b[38;5;28;01mNone\u001b[39;00m:\n",
      "File \u001b[1;32m~\\AppData\\Local\\anaconda3\\Lib\\site-packages\\pandas\\io\\json\\_normalize.py:501\u001b[0m, in \u001b[0;36mjson_normalize.<locals>._recursive_extract\u001b[1;34m(data, path, seen_meta, level)\u001b[0m\n\u001b[0;32m    499\u001b[0m \u001b[38;5;28;01melse\u001b[39;00m:\n\u001b[0;32m    500\u001b[0m     \u001b[38;5;28;01mfor\u001b[39;00m obj \u001b[38;5;129;01min\u001b[39;00m data:\n\u001b[1;32m--> 501\u001b[0m         recs \u001b[38;5;241m=\u001b[39m _pull_records(obj, path[\u001b[38;5;241m0\u001b[39m])\n\u001b[0;32m    502\u001b[0m         recs \u001b[38;5;241m=\u001b[39m [\n\u001b[0;32m    503\u001b[0m             nested_to_record(r, sep\u001b[38;5;241m=\u001b[39msep, max_level\u001b[38;5;241m=\u001b[39mmax_level)\n\u001b[0;32m    504\u001b[0m             \u001b[38;5;28;01mif\u001b[39;00m \u001b[38;5;28misinstance\u001b[39m(r, \u001b[38;5;28mdict\u001b[39m)\n\u001b[0;32m    505\u001b[0m             \u001b[38;5;28;01melse\u001b[39;00m r\n\u001b[0;32m    506\u001b[0m             \u001b[38;5;28;01mfor\u001b[39;00m r \u001b[38;5;129;01min\u001b[39;00m recs\n\u001b[0;32m    507\u001b[0m         ]\n\u001b[0;32m    509\u001b[0m         \u001b[38;5;66;03m# For repeating the metadata later\u001b[39;00m\n",
      "File \u001b[1;32m~\\AppData\\Local\\anaconda3\\Lib\\site-packages\\pandas\\io\\json\\_normalize.py:431\u001b[0m, in \u001b[0;36mjson_normalize.<locals>._pull_records\u001b[1;34m(js, spec)\u001b[0m\n\u001b[0;32m    429\u001b[0m         result \u001b[38;5;241m=\u001b[39m []\n\u001b[0;32m    430\u001b[0m     \u001b[38;5;28;01melse\u001b[39;00m:\n\u001b[1;32m--> 431\u001b[0m         \u001b[38;5;28;01mraise\u001b[39;00m \u001b[38;5;167;01mTypeError\u001b[39;00m(\n\u001b[0;32m    432\u001b[0m             \u001b[38;5;124mf\u001b[39m\u001b[38;5;124m\"\u001b[39m\u001b[38;5;132;01m{\u001b[39;00mjs\u001b[38;5;132;01m}\u001b[39;00m\u001b[38;5;124m has non list value \u001b[39m\u001b[38;5;132;01m{\u001b[39;00mresult\u001b[38;5;132;01m}\u001b[39;00m\u001b[38;5;124m for path \u001b[39m\u001b[38;5;132;01m{\u001b[39;00mspec\u001b[38;5;132;01m}\u001b[39;00m\u001b[38;5;124m. \u001b[39m\u001b[38;5;124m\"\u001b[39m\n\u001b[0;32m    433\u001b[0m             \u001b[38;5;124m\"\u001b[39m\u001b[38;5;124mMust be list or null.\u001b[39m\u001b[38;5;124m\"\u001b[39m\n\u001b[0;32m    434\u001b[0m         )\n\u001b[0;32m    435\u001b[0m \u001b[38;5;28;01mreturn\u001b[39;00m result\n",
      "\u001b[1;31mTypeError\u001b[0m: {'@context': ['https://geojson.org/geojson-ld/geojson-context.jsonld', {'@version': '1.1', 'wx': 'https://api.weather.gov/ontology#', 's': 'https://schema.org/', 'geo': 'http://www.opengis.net/ont/geosparql#', 'unit': 'http://codes.wmo.int/common/unit/', '@vocab': 'https://api.weather.gov/ontology#', 'geometry': {'@id': 's:GeoCoordinates', '@type': 'geo:wktLiteral'}, 'city': 's:addressLocality', 'state': 's:addressRegion', 'distance': {'@id': 's:Distance', '@type': 's:QuantitativeValue'}, 'bearing': {'@type': 's:QuantitativeValue'}, 'value': {'@id': 's:value'}, 'unitCode': {'@id': 's:unitCode', '@type': '@id'}, 'forecastOffice': {'@type': '@id'}, 'forecastGridData': {'@type': '@id'}, 'publicZone': {'@type': '@id'}, 'county': {'@type': '@id'}}], 'id': 'https://api.weather.gov/stations/KCQT/observations/2024-03-31T23:47:00+00:00', 'type': 'Feature', 'geometry': {'type': 'Point', 'coordinates': [-118.28, 34.02]}, 'properties': {'@id': 'https://api.weather.gov/stations/KCQT/observations/2024-03-31T23:47:00+00:00', '@type': 'wx:ObservationStation', 'elevation': {'unitCode': 'wmoUnit:m', 'value': 56}, 'station': 'https://api.weather.gov/stations/KCQT', 'timestamp': '2024-03-31T23:47:00+00:00', 'rawMessage': 'KCQT 312347Z AUTO 13007KT 090V150 10SM FEW040 SCT060 17/06 A2977 RMK AO2 SLP081 T01670061 10178 20150 55003', 'textDescription': 'Partly Cloudy', 'icon': 'https://api.weather.gov/icons/land/day/sct?size=medium', 'presentWeather': [], 'temperature': {'unitCode': 'wmoUnit:degC', 'value': 16.7, 'qualityControl': 'V'}, 'dewpoint': {'unitCode': 'wmoUnit:degC', 'value': 6.1, 'qualityControl': 'V'}, 'windDirection': {'unitCode': 'wmoUnit:degree_(angle)', 'value': 130, 'qualityControl': 'V'}, 'windSpeed': {'unitCode': 'wmoUnit:km_h-1', 'value': 12.96, 'qualityControl': 'V'}, 'windGust': {'unitCode': 'wmoUnit:km_h-1', 'value': None, 'qualityControl': 'Z'}, 'barometricPressure': {'unitCode': 'wmoUnit:Pa', 'value': 100810, 'qualityControl': 'V'}, 'seaLevelPressure': {'unitCode': 'wmoUnit:Pa', 'value': 100810, 'qualityControl': 'V'}, 'visibility': {'unitCode': 'wmoUnit:m', 'value': 16090, 'qualityControl': 'C'}, 'maxTemperatureLast24Hours': {'unitCode': 'wmoUnit:degC', 'value': None}, 'minTemperatureLast24Hours': {'unitCode': 'wmoUnit:degC', 'value': None}, 'precipitationLastHour': {'unitCode': 'wmoUnit:mm', 'value': None, 'qualityControl': 'Z'}, 'precipitationLast3Hours': {'unitCode': 'wmoUnit:mm', 'value': None, 'qualityControl': 'Z'}, 'precipitationLast6Hours': {'unitCode': 'wmoUnit:mm', 'value': None, 'qualityControl': 'Z'}, 'relativeHumidity': {'unitCode': 'wmoUnit:percent', 'value': 49.575866677137, 'qualityControl': 'V'}, 'windChill': {'unitCode': 'wmoUnit:degC', 'value': None, 'qualityControl': 'V'}, 'heatIndex': {'unitCode': 'wmoUnit:degC', 'value': None, 'qualityControl': 'V'}, 'cloudLayers': [{'base': {'unitCode': 'wmoUnit:m', 'value': 1220}, 'amount': 'FEW'}, {'base': {'unitCode': 'wmoUnit:m', 'value': 1830}, 'amount': 'SCT'}]}} has non list value https://api.weather.gov/stations/KCQT/observations/2024-03-31T23:47:00+00:00 for path id. Must be list or null."
     ]
    }
   ],
   "source": [
    "df = pd.json_normalize(data, record_path='id')\n",
    "type(df)"
   ]
  },
  {
   "cell_type": "code",
   "execution_count": 78,
   "id": "925ec790",
   "metadata": {},
   "outputs": [
    {
     "ename": "TypeError",
     "evalue": "{'@context': ['https://geojson.org/geojson-ld/geojson-context.jsonld', {'@version': '1.1', 'wx': 'https://api.weather.gov/ontology#', 's': 'https://schema.org/', 'geo': 'http://www.opengis.net/ont/geosparql#', 'unit': 'http://codes.wmo.int/common/unit/', '@vocab': 'https://api.weather.gov/ontology#', 'geometry': {'@id': 's:GeoCoordinates', '@type': 'geo:wktLiteral'}, 'city': 's:addressLocality', 'state': 's:addressRegion', 'distance': {'@id': 's:Distance', '@type': 's:QuantitativeValue'}, 'bearing': {'@type': 's:QuantitativeValue'}, 'value': {'@id': 's:value'}, 'unitCode': {'@id': 's:unitCode', '@type': '@id'}, 'forecastOffice': {'@type': '@id'}, 'forecastGridData': {'@type': '@id'}, 'publicZone': {'@type': '@id'}, 'county': {'@type': '@id'}}], 'id': 'https://api.weather.gov/stations/KCQT/observations/2024-03-31T23:47:00+00:00', 'type': 'Feature', 'geometry': {'type': 'Point', 'coordinates': [-118.28, 34.02]}, 'properties': {'@id': 'https://api.weather.gov/stations/KCQT/observations/2024-03-31T23:47:00+00:00', '@type': 'wx:ObservationStation', 'elevation': {'unitCode': 'wmoUnit:m', 'value': 56}, 'station': 'https://api.weather.gov/stations/KCQT', 'timestamp': '2024-03-31T23:47:00+00:00', 'rawMessage': 'KCQT 312347Z AUTO 13007KT 090V150 10SM FEW040 SCT060 17/06 A2977 RMK AO2 SLP081 T01670061 10178 20150 55003', 'textDescription': 'Partly Cloudy', 'icon': 'https://api.weather.gov/icons/land/day/sct?size=medium', 'presentWeather': [], 'temperature': {'unitCode': 'wmoUnit:degC', 'value': 16.7, 'qualityControl': 'V'}, 'dewpoint': {'unitCode': 'wmoUnit:degC', 'value': 6.1, 'qualityControl': 'V'}, 'windDirection': {'unitCode': 'wmoUnit:degree_(angle)', 'value': 130, 'qualityControl': 'V'}, 'windSpeed': {'unitCode': 'wmoUnit:km_h-1', 'value': 12.96, 'qualityControl': 'V'}, 'windGust': {'unitCode': 'wmoUnit:km_h-1', 'value': None, 'qualityControl': 'Z'}, 'barometricPressure': {'unitCode': 'wmoUnit:Pa', 'value': 100810, 'qualityControl': 'V'}, 'seaLevelPressure': {'unitCode': 'wmoUnit:Pa', 'value': 100810, 'qualityControl': 'V'}, 'visibility': {'unitCode': 'wmoUnit:m', 'value': 16090, 'qualityControl': 'C'}, 'maxTemperatureLast24Hours': {'unitCode': 'wmoUnit:degC', 'value': None}, 'minTemperatureLast24Hours': {'unitCode': 'wmoUnit:degC', 'value': None}, 'precipitationLastHour': {'unitCode': 'wmoUnit:mm', 'value': None, 'qualityControl': 'Z'}, 'precipitationLast3Hours': {'unitCode': 'wmoUnit:mm', 'value': None, 'qualityControl': 'Z'}, 'precipitationLast6Hours': {'unitCode': 'wmoUnit:mm', 'value': None, 'qualityControl': 'Z'}, 'relativeHumidity': {'unitCode': 'wmoUnit:percent', 'value': 49.575866677137, 'qualityControl': 'V'}, 'windChill': {'unitCode': 'wmoUnit:degC', 'value': None, 'qualityControl': 'V'}, 'heatIndex': {'unitCode': 'wmoUnit:degC', 'value': None, 'qualityControl': 'V'}, 'cloudLayers': [{'base': {'unitCode': 'wmoUnit:m', 'value': 1220}, 'amount': 'FEW'}, {'base': {'unitCode': 'wmoUnit:m', 'value': 1830}, 'amount': 'SCT'}]}} has non list value https://api.weather.gov/stations/KCQT/observations/2024-03-31T23:47:00+00:00 for path id. Must be list or null.",
     "output_type": "error",
     "traceback": [
      "\u001b[1;31m---------------------------------------------------------------------------\u001b[0m",
      "\u001b[1;31mTypeError\u001b[0m                                 Traceback (most recent call last)",
      "Cell \u001b[1;32mIn[78], line 2\u001b[0m\n\u001b[0;32m      1\u001b[0m pd\u001b[38;5;241m.\u001b[39mset_option(\u001b[38;5;124m'\u001b[39m\u001b[38;5;124mdisplay.max.columns\u001b[39m\u001b[38;5;124m'\u001b[39m, \u001b[38;5;241m62\u001b[39m)\n\u001b[1;32m----> 2\u001b[0m df \u001b[38;5;241m=\u001b[39m pd\u001b[38;5;241m.\u001b[39mjson_normalize(data, record_path\u001b[38;5;241m=\u001b[39m\u001b[38;5;124m'\u001b[39m\u001b[38;5;124mid\u001b[39m\u001b[38;5;124m'\u001b[39m)\n",
      "File \u001b[1;32m~\\AppData\\Local\\anaconda3\\Lib\\site-packages\\pandas\\io\\json\\_normalize.py:519\u001b[0m, in \u001b[0;36mjson_normalize\u001b[1;34m(data, record_path, meta, meta_prefix, record_prefix, errors, sep, max_level)\u001b[0m\n\u001b[0;32m    516\u001b[0m                 meta_vals[key]\u001b[38;5;241m.\u001b[39mappend(meta_val)\n\u001b[0;32m    517\u001b[0m             records\u001b[38;5;241m.\u001b[39mextend(recs)\n\u001b[1;32m--> 519\u001b[0m _recursive_extract(data, record_path, {}, level\u001b[38;5;241m=\u001b[39m\u001b[38;5;241m0\u001b[39m)\n\u001b[0;32m    521\u001b[0m result \u001b[38;5;241m=\u001b[39m DataFrame(records)\n\u001b[0;32m    523\u001b[0m \u001b[38;5;28;01mif\u001b[39;00m record_prefix \u001b[38;5;129;01mis\u001b[39;00m \u001b[38;5;129;01mnot\u001b[39;00m \u001b[38;5;28;01mNone\u001b[39;00m:\n",
      "File \u001b[1;32m~\\AppData\\Local\\anaconda3\\Lib\\site-packages\\pandas\\io\\json\\_normalize.py:501\u001b[0m, in \u001b[0;36mjson_normalize.<locals>._recursive_extract\u001b[1;34m(data, path, seen_meta, level)\u001b[0m\n\u001b[0;32m    499\u001b[0m \u001b[38;5;28;01melse\u001b[39;00m:\n\u001b[0;32m    500\u001b[0m     \u001b[38;5;28;01mfor\u001b[39;00m obj \u001b[38;5;129;01min\u001b[39;00m data:\n\u001b[1;32m--> 501\u001b[0m         recs \u001b[38;5;241m=\u001b[39m _pull_records(obj, path[\u001b[38;5;241m0\u001b[39m])\n\u001b[0;32m    502\u001b[0m         recs \u001b[38;5;241m=\u001b[39m [\n\u001b[0;32m    503\u001b[0m             nested_to_record(r, sep\u001b[38;5;241m=\u001b[39msep, max_level\u001b[38;5;241m=\u001b[39mmax_level)\n\u001b[0;32m    504\u001b[0m             \u001b[38;5;28;01mif\u001b[39;00m \u001b[38;5;28misinstance\u001b[39m(r, \u001b[38;5;28mdict\u001b[39m)\n\u001b[0;32m    505\u001b[0m             \u001b[38;5;28;01melse\u001b[39;00m r\n\u001b[0;32m    506\u001b[0m             \u001b[38;5;28;01mfor\u001b[39;00m r \u001b[38;5;129;01min\u001b[39;00m recs\n\u001b[0;32m    507\u001b[0m         ]\n\u001b[0;32m    509\u001b[0m         \u001b[38;5;66;03m# For repeating the metadata later\u001b[39;00m\n",
      "File \u001b[1;32m~\\AppData\\Local\\anaconda3\\Lib\\site-packages\\pandas\\io\\json\\_normalize.py:431\u001b[0m, in \u001b[0;36mjson_normalize.<locals>._pull_records\u001b[1;34m(js, spec)\u001b[0m\n\u001b[0;32m    429\u001b[0m         result \u001b[38;5;241m=\u001b[39m []\n\u001b[0;32m    430\u001b[0m     \u001b[38;5;28;01melse\u001b[39;00m:\n\u001b[1;32m--> 431\u001b[0m         \u001b[38;5;28;01mraise\u001b[39;00m \u001b[38;5;167;01mTypeError\u001b[39;00m(\n\u001b[0;32m    432\u001b[0m             \u001b[38;5;124mf\u001b[39m\u001b[38;5;124m\"\u001b[39m\u001b[38;5;132;01m{\u001b[39;00mjs\u001b[38;5;132;01m}\u001b[39;00m\u001b[38;5;124m has non list value \u001b[39m\u001b[38;5;132;01m{\u001b[39;00mresult\u001b[38;5;132;01m}\u001b[39;00m\u001b[38;5;124m for path \u001b[39m\u001b[38;5;132;01m{\u001b[39;00mspec\u001b[38;5;132;01m}\u001b[39;00m\u001b[38;5;124m. \u001b[39m\u001b[38;5;124m\"\u001b[39m\n\u001b[0;32m    433\u001b[0m             \u001b[38;5;124m\"\u001b[39m\u001b[38;5;124mMust be list or null.\u001b[39m\u001b[38;5;124m\"\u001b[39m\n\u001b[0;32m    434\u001b[0m         )\n\u001b[0;32m    435\u001b[0m \u001b[38;5;28;01mreturn\u001b[39;00m result\n",
      "\u001b[1;31mTypeError\u001b[0m: {'@context': ['https://geojson.org/geojson-ld/geojson-context.jsonld', {'@version': '1.1', 'wx': 'https://api.weather.gov/ontology#', 's': 'https://schema.org/', 'geo': 'http://www.opengis.net/ont/geosparql#', 'unit': 'http://codes.wmo.int/common/unit/', '@vocab': 'https://api.weather.gov/ontology#', 'geometry': {'@id': 's:GeoCoordinates', '@type': 'geo:wktLiteral'}, 'city': 's:addressLocality', 'state': 's:addressRegion', 'distance': {'@id': 's:Distance', '@type': 's:QuantitativeValue'}, 'bearing': {'@type': 's:QuantitativeValue'}, 'value': {'@id': 's:value'}, 'unitCode': {'@id': 's:unitCode', '@type': '@id'}, 'forecastOffice': {'@type': '@id'}, 'forecastGridData': {'@type': '@id'}, 'publicZone': {'@type': '@id'}, 'county': {'@type': '@id'}}], 'id': 'https://api.weather.gov/stations/KCQT/observations/2024-03-31T23:47:00+00:00', 'type': 'Feature', 'geometry': {'type': 'Point', 'coordinates': [-118.28, 34.02]}, 'properties': {'@id': 'https://api.weather.gov/stations/KCQT/observations/2024-03-31T23:47:00+00:00', '@type': 'wx:ObservationStation', 'elevation': {'unitCode': 'wmoUnit:m', 'value': 56}, 'station': 'https://api.weather.gov/stations/KCQT', 'timestamp': '2024-03-31T23:47:00+00:00', 'rawMessage': 'KCQT 312347Z AUTO 13007KT 090V150 10SM FEW040 SCT060 17/06 A2977 RMK AO2 SLP081 T01670061 10178 20150 55003', 'textDescription': 'Partly Cloudy', 'icon': 'https://api.weather.gov/icons/land/day/sct?size=medium', 'presentWeather': [], 'temperature': {'unitCode': 'wmoUnit:degC', 'value': 16.7, 'qualityControl': 'V'}, 'dewpoint': {'unitCode': 'wmoUnit:degC', 'value': 6.1, 'qualityControl': 'V'}, 'windDirection': {'unitCode': 'wmoUnit:degree_(angle)', 'value': 130, 'qualityControl': 'V'}, 'windSpeed': {'unitCode': 'wmoUnit:km_h-1', 'value': 12.96, 'qualityControl': 'V'}, 'windGust': {'unitCode': 'wmoUnit:km_h-1', 'value': None, 'qualityControl': 'Z'}, 'barometricPressure': {'unitCode': 'wmoUnit:Pa', 'value': 100810, 'qualityControl': 'V'}, 'seaLevelPressure': {'unitCode': 'wmoUnit:Pa', 'value': 100810, 'qualityControl': 'V'}, 'visibility': {'unitCode': 'wmoUnit:m', 'value': 16090, 'qualityControl': 'C'}, 'maxTemperatureLast24Hours': {'unitCode': 'wmoUnit:degC', 'value': None}, 'minTemperatureLast24Hours': {'unitCode': 'wmoUnit:degC', 'value': None}, 'precipitationLastHour': {'unitCode': 'wmoUnit:mm', 'value': None, 'qualityControl': 'Z'}, 'precipitationLast3Hours': {'unitCode': 'wmoUnit:mm', 'value': None, 'qualityControl': 'Z'}, 'precipitationLast6Hours': {'unitCode': 'wmoUnit:mm', 'value': None, 'qualityControl': 'Z'}, 'relativeHumidity': {'unitCode': 'wmoUnit:percent', 'value': 49.575866677137, 'qualityControl': 'V'}, 'windChill': {'unitCode': 'wmoUnit:degC', 'value': None, 'qualityControl': 'V'}, 'heatIndex': {'unitCode': 'wmoUnit:degC', 'value': None, 'qualityControl': 'V'}, 'cloudLayers': [{'base': {'unitCode': 'wmoUnit:m', 'value': 1220}, 'amount': 'FEW'}, {'base': {'unitCode': 'wmoUnit:m', 'value': 1830}, 'amount': 'SCT'}]}} has non list value https://api.weather.gov/stations/KCQT/observations/2024-03-31T23:47:00+00:00 for path id. Must be list or null."
     ]
    }
   ],
   "source": [
    "pd.set_option('display.max.columns', 62)\n",
    "df = pd.json_normalize(data, record_path='id')"
   ]
  },
  {
   "cell_type": "code",
   "execution_count": 49,
   "id": "a8a0c633",
   "metadata": {},
   "outputs": [],
   "source": [
    "df = pd.json_normalize(data, record_path='@context')"
   ]
  },
  {
   "cell_type": "code",
   "execution_count": 71,
   "id": "e1be0c7d",
   "metadata": {
    "scrolled": true
   },
   "outputs": [
    {
     "name": "stdout",
     "output_type": "stream",
     "text": [
      "None\n"
     ]
    }
   ],
   "source": [
    "print(df)"
   ]
  },
  {
   "cell_type": "code",
   "execution_count": null,
   "id": "ef7e52d0",
   "metadata": {},
   "outputs": [],
   "source": []
  }
 ],
 "metadata": {
  "kernelspec": {
   "display_name": "Python 3 (ipykernel)",
   "language": "python",
   "name": "python3"
  },
  "language_info": {
   "codemirror_mode": {
    "name": "ipython",
    "version": 3
   },
   "file_extension": ".py",
   "mimetype": "text/x-python",
   "name": "python",
   "nbconvert_exporter": "python",
   "pygments_lexer": "ipython3",
   "version": "3.11.5"
  }
 },
 "nbformat": 4,
 "nbformat_minor": 5
}
